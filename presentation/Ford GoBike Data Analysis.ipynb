{
 "cells": [
  {
   "cell_type": "markdown",
   "id": "7e90f9d5",
   "metadata": {},
   "source": [
    "# Ford Gobike System Data Analysis\n",
    "In this project i analysed the  fordgobike datasets and explored the information about the rides made by individuals  made in the month february 2019.  for this analysis , pandas DataFrame were used. The following questions were answered during this project:\n",
    "* Which of the day of week were most of the trips made.\n",
    "* the number of user type\n",
    "* How was the gender distributed.\n",
    "* Was there any round trip etc.\n"
   ]
  },
  {
   "cell_type": "markdown",
   "id": "bdfb2a22",
   "metadata": {},
   "source": [
    "## Dataset Overview\n",
    "The datasets consists of information regarding about 183,412 rides made in the month of february.The datasets consists of about 16 features which includes the following:\n",
    "\n",
    "* duration_sec : duration of trip made in seconds\n",
    "* start_time : time trip started\n",
    "* end_time : time trip ended.\n",
    "* start_station_id: station id where trip started.\n",
    "* end_station_id : station id where trip ended.\n",
    "* start_station_latitude : the lattitude location of the station  where of the trip started\n",
    "* end_station_latitude : latitude location of the station where the trip ended.\n",
    "* end_station_longitude :longitude location of the station where the trip ended.\n",
    "* start_station_latitude :longitude location of the station where the trip started.\n",
    "\n",
    "* User_type : type of user(subscriber or customer)\n",
    "* member_birth_year : Year which member were born\n",
    "* member_gender : gender of member(male, female and other)\n",
    "* bike_id : unique identifier of bike used for trips:\n",
    "\n"
   ]
  },
  {
   "cell_type": "code",
   "execution_count": 1,
   "id": "0fc32643",
   "metadata": {},
   "outputs": [],
   "source": [
    "import pandas as pd\n",
    "import matplotlib.pyplot as plt\n",
    "import numpy as np\n",
    "import seaborn as sns\n",
    "\n",
    "from scipy.stats import iqr\n",
    "sns.set_style('dark')\n",
    "%matplotlib inline"
   ]
  },
  {
   "cell_type": "markdown",
   "id": "cdafe783",
   "metadata": {},
   "source": [
    "## Data Wrangling"
   ]
  },
  {
   "cell_type": "markdown",
   "id": "0028d190",
   "metadata": {},
   "source": [
    "### Data Gathering"
   ]
  },
  {
   "cell_type": "code",
   "execution_count": 2,
   "id": "c903a8cf",
   "metadata": {},
   "outputs": [],
   "source": [
    "bike = pd.read_csv('201902-fordgobike-tripdata.csv')\n"
   ]
  },
  {
   "cell_type": "markdown",
   "id": "51068658",
   "metadata": {},
   "source": [
    "### Assessing Data"
   ]
  },
  {
   "cell_type": "code",
   "execution_count": 3,
   "id": "7940962e",
   "metadata": {},
   "outputs": [
    {
     "data": {
      "text/html": [
       "<div>\n",
       "<style scoped>\n",
       "    .dataframe tbody tr th:only-of-type {\n",
       "        vertical-align: middle;\n",
       "    }\n",
       "\n",
       "    .dataframe tbody tr th {\n",
       "        vertical-align: top;\n",
       "    }\n",
       "\n",
       "    .dataframe thead th {\n",
       "        text-align: right;\n",
       "    }\n",
       "</style>\n",
       "<table border=\"1\" class=\"dataframe\">\n",
       "  <thead>\n",
       "    <tr style=\"text-align: right;\">\n",
       "      <th></th>\n",
       "      <th>duration_sec</th>\n",
       "      <th>start_time</th>\n",
       "      <th>end_time</th>\n",
       "      <th>start_station_id</th>\n",
       "      <th>start_station_name</th>\n",
       "      <th>start_station_latitude</th>\n",
       "      <th>start_station_longitude</th>\n",
       "      <th>end_station_id</th>\n",
       "      <th>end_station_name</th>\n",
       "      <th>end_station_latitude</th>\n",
       "      <th>end_station_longitude</th>\n",
       "      <th>bike_id</th>\n",
       "      <th>user_type</th>\n",
       "      <th>member_birth_year</th>\n",
       "      <th>member_gender</th>\n",
       "      <th>bike_share_for_all_trip</th>\n",
       "    </tr>\n",
       "  </thead>\n",
       "  <tbody>\n",
       "    <tr>\n",
       "      <th>156359</th>\n",
       "      <td>459</td>\n",
       "      <td>2019-02-06 08:01:12.4680</td>\n",
       "      <td>2019-02-06 08:08:51.5830</td>\n",
       "      <td>67.0</td>\n",
       "      <td>San Francisco Caltrain Station 2  (Townsend St...</td>\n",
       "      <td>37.776639</td>\n",
       "      <td>-122.395526</td>\n",
       "      <td>23.0</td>\n",
       "      <td>The Embarcadero at Steuart St</td>\n",
       "      <td>37.791464</td>\n",
       "      <td>-122.391034</td>\n",
       "      <td>5442</td>\n",
       "      <td>Subscriber</td>\n",
       "      <td>1991.0</td>\n",
       "      <td>Female</td>\n",
       "      <td>No</td>\n",
       "    </tr>\n",
       "    <tr>\n",
       "      <th>65922</th>\n",
       "      <td>932</td>\n",
       "      <td>2019-02-20 09:00:16.4260</td>\n",
       "      <td>2019-02-20 09:15:48.9900</td>\n",
       "      <td>21.0</td>\n",
       "      <td>Montgomery St BART Station (Market St at 2nd St)</td>\n",
       "      <td>37.789625</td>\n",
       "      <td>-122.400811</td>\n",
       "      <td>126.0</td>\n",
       "      <td>Esprit Park</td>\n",
       "      <td>37.761634</td>\n",
       "      <td>-122.390648</td>\n",
       "      <td>5400</td>\n",
       "      <td>Subscriber</td>\n",
       "      <td>1991.0</td>\n",
       "      <td>Male</td>\n",
       "      <td>No</td>\n",
       "    </tr>\n",
       "    <tr>\n",
       "      <th>7042</th>\n",
       "      <td>344</td>\n",
       "      <td>2019-02-28 09:27:20.9260</td>\n",
       "      <td>2019-02-28 09:33:05.5600</td>\n",
       "      <td>321.0</td>\n",
       "      <td>5th St at Folsom</td>\n",
       "      <td>37.780146</td>\n",
       "      <td>-122.403071</td>\n",
       "      <td>30.0</td>\n",
       "      <td>San Francisco Caltrain (Townsend St at 4th St)</td>\n",
       "      <td>37.776598</td>\n",
       "      <td>-122.395282</td>\n",
       "      <td>6472</td>\n",
       "      <td>Subscriber</td>\n",
       "      <td>1983.0</td>\n",
       "      <td>Male</td>\n",
       "      <td>No</td>\n",
       "    </tr>\n",
       "    <tr>\n",
       "      <th>138127</th>\n",
       "      <td>629</td>\n",
       "      <td>2019-02-08 07:56:44.4950</td>\n",
       "      <td>2019-02-08 08:07:13.7390</td>\n",
       "      <td>58.0</td>\n",
       "      <td>Market St at 10th St</td>\n",
       "      <td>37.776619</td>\n",
       "      <td>-122.417385</td>\n",
       "      <td>81.0</td>\n",
       "      <td>Berry St at 4th St</td>\n",
       "      <td>37.775880</td>\n",
       "      <td>-122.393170</td>\n",
       "      <td>4924</td>\n",
       "      <td>Subscriber</td>\n",
       "      <td>1983.0</td>\n",
       "      <td>Male</td>\n",
       "      <td>No</td>\n",
       "    </tr>\n",
       "    <tr>\n",
       "      <th>76363</th>\n",
       "      <td>789</td>\n",
       "      <td>2019-02-19 08:18:03.4090</td>\n",
       "      <td>2019-02-19 08:31:12.8490</td>\n",
       "      <td>84.0</td>\n",
       "      <td>Duboce Park</td>\n",
       "      <td>37.769200</td>\n",
       "      <td>-122.433812</td>\n",
       "      <td>142.0</td>\n",
       "      <td>Guerrero Park</td>\n",
       "      <td>37.745739</td>\n",
       "      <td>-122.422140</td>\n",
       "      <td>5404</td>\n",
       "      <td>Subscriber</td>\n",
       "      <td>NaN</td>\n",
       "      <td>NaN</td>\n",
       "      <td>No</td>\n",
       "    </tr>\n",
       "  </tbody>\n",
       "</table>\n",
       "</div>"
      ],
      "text/plain": [
       "        duration_sec                start_time                  end_time  \\\n",
       "156359           459  2019-02-06 08:01:12.4680  2019-02-06 08:08:51.5830   \n",
       "65922            932  2019-02-20 09:00:16.4260  2019-02-20 09:15:48.9900   \n",
       "7042             344  2019-02-28 09:27:20.9260  2019-02-28 09:33:05.5600   \n",
       "138127           629  2019-02-08 07:56:44.4950  2019-02-08 08:07:13.7390   \n",
       "76363            789  2019-02-19 08:18:03.4090  2019-02-19 08:31:12.8490   \n",
       "\n",
       "        start_station_id                                 start_station_name  \\\n",
       "156359              67.0  San Francisco Caltrain Station 2  (Townsend St...   \n",
       "65922               21.0   Montgomery St BART Station (Market St at 2nd St)   \n",
       "7042               321.0                                   5th St at Folsom   \n",
       "138127              58.0                               Market St at 10th St   \n",
       "76363               84.0                                        Duboce Park   \n",
       "\n",
       "        start_station_latitude  start_station_longitude  end_station_id  \\\n",
       "156359               37.776639              -122.395526            23.0   \n",
       "65922                37.789625              -122.400811           126.0   \n",
       "7042                 37.780146              -122.403071            30.0   \n",
       "138127               37.776619              -122.417385            81.0   \n",
       "76363                37.769200              -122.433812           142.0   \n",
       "\n",
       "                                      end_station_name  end_station_latitude  \\\n",
       "156359                   The Embarcadero at Steuart St             37.791464   \n",
       "65922                                      Esprit Park             37.761634   \n",
       "7042    San Francisco Caltrain (Townsend St at 4th St)             37.776598   \n",
       "138127                              Berry St at 4th St             37.775880   \n",
       "76363                                    Guerrero Park             37.745739   \n",
       "\n",
       "        end_station_longitude  bike_id   user_type  member_birth_year  \\\n",
       "156359            -122.391034     5442  Subscriber             1991.0   \n",
       "65922             -122.390648     5400  Subscriber             1991.0   \n",
       "7042              -122.395282     6472  Subscriber             1983.0   \n",
       "138127            -122.393170     4924  Subscriber             1983.0   \n",
       "76363             -122.422140     5404  Subscriber                NaN   \n",
       "\n",
       "       member_gender bike_share_for_all_trip  \n",
       "156359        Female                      No  \n",
       "65922           Male                      No  \n",
       "7042            Male                      No  \n",
       "138127          Male                      No  \n",
       "76363            NaN                      No  "
      ]
     },
     "execution_count": 3,
     "metadata": {},
     "output_type": "execute_result"
    }
   ],
   "source": [
    "bike.sample(5)"
   ]
  },
  {
   "cell_type": "code",
   "execution_count": 4,
   "id": "9ceb5c49",
   "metadata": {},
   "outputs": [
    {
     "data": {
      "text/plain": [
       "(183412, 16)"
      ]
     },
     "execution_count": 4,
     "metadata": {},
     "output_type": "execute_result"
    }
   ],
   "source": [
    "# To check the rows and columns of the dataset\n",
    "bike.shape"
   ]
  },
  {
   "cell_type": "markdown",
   "id": "c451eb0c",
   "metadata": {},
   "source": [
    "From the above we can see that the dataset has about 16 features and about 183412 rides were made"
   ]
  },
  {
   "cell_type": "code",
   "execution_count": 5,
   "id": "63733988",
   "metadata": {},
   "outputs": [
    {
     "name": "stdout",
     "output_type": "stream",
     "text": [
      "<class 'pandas.core.frame.DataFrame'>\n",
      "RangeIndex: 183412 entries, 0 to 183411\n",
      "Data columns (total 16 columns):\n",
      " #   Column                   Non-Null Count   Dtype  \n",
      "---  ------                   --------------   -----  \n",
      " 0   duration_sec             183412 non-null  int64  \n",
      " 1   start_time               183412 non-null  object \n",
      " 2   end_time                 183412 non-null  object \n",
      " 3   start_station_id         183215 non-null  float64\n",
      " 4   start_station_name       183215 non-null  object \n",
      " 5   start_station_latitude   183412 non-null  float64\n",
      " 6   start_station_longitude  183412 non-null  float64\n",
      " 7   end_station_id           183215 non-null  float64\n",
      " 8   end_station_name         183215 non-null  object \n",
      " 9   end_station_latitude     183412 non-null  float64\n",
      " 10  end_station_longitude    183412 non-null  float64\n",
      " 11  bike_id                  183412 non-null  int64  \n",
      " 12  user_type                183412 non-null  object \n",
      " 13  member_birth_year        175147 non-null  float64\n",
      " 14  member_gender            175147 non-null  object \n",
      " 15  bike_share_for_all_trip  183412 non-null  object \n",
      "dtypes: float64(7), int64(2), object(7)\n",
      "memory usage: 22.4+ MB\n"
     ]
    }
   ],
   "source": [
    "#Datasets Info \n",
    "bike.info()"
   ]
  },
  {
   "cell_type": "code",
   "execution_count": 6,
   "id": "60e1db67",
   "metadata": {},
   "outputs": [
    {
     "data": {
      "text/html": [
       "<div>\n",
       "<style scoped>\n",
       "    .dataframe tbody tr th:only-of-type {\n",
       "        vertical-align: middle;\n",
       "    }\n",
       "\n",
       "    .dataframe tbody tr th {\n",
       "        vertical-align: top;\n",
       "    }\n",
       "\n",
       "    .dataframe thead th {\n",
       "        text-align: right;\n",
       "    }\n",
       "</style>\n",
       "<table border=\"1\" class=\"dataframe\">\n",
       "  <thead>\n",
       "    <tr style=\"text-align: right;\">\n",
       "      <th></th>\n",
       "      <th>count</th>\n",
       "      <th>mean</th>\n",
       "      <th>std</th>\n",
       "      <th>min</th>\n",
       "      <th>25%</th>\n",
       "      <th>50%</th>\n",
       "      <th>75%</th>\n",
       "      <th>max</th>\n",
       "    </tr>\n",
       "  </thead>\n",
       "  <tbody>\n",
       "    <tr>\n",
       "      <th>duration_sec</th>\n",
       "      <td>183412.0</td>\n",
       "      <td>726.078435</td>\n",
       "      <td>1794.389780</td>\n",
       "      <td>61.000000</td>\n",
       "      <td>325.000000</td>\n",
       "      <td>514.000000</td>\n",
       "      <td>796.000000</td>\n",
       "      <td>85444.000000</td>\n",
       "    </tr>\n",
       "    <tr>\n",
       "      <th>start_station_id</th>\n",
       "      <td>183215.0</td>\n",
       "      <td>138.590427</td>\n",
       "      <td>111.778864</td>\n",
       "      <td>3.000000</td>\n",
       "      <td>47.000000</td>\n",
       "      <td>104.000000</td>\n",
       "      <td>239.000000</td>\n",
       "      <td>398.000000</td>\n",
       "    </tr>\n",
       "    <tr>\n",
       "      <th>start_station_latitude</th>\n",
       "      <td>183412.0</td>\n",
       "      <td>37.771223</td>\n",
       "      <td>0.099581</td>\n",
       "      <td>37.317298</td>\n",
       "      <td>37.770083</td>\n",
       "      <td>37.780760</td>\n",
       "      <td>37.797280</td>\n",
       "      <td>37.880222</td>\n",
       "    </tr>\n",
       "    <tr>\n",
       "      <th>start_station_longitude</th>\n",
       "      <td>183412.0</td>\n",
       "      <td>-122.352664</td>\n",
       "      <td>0.117097</td>\n",
       "      <td>-122.453704</td>\n",
       "      <td>-122.412408</td>\n",
       "      <td>-122.398285</td>\n",
       "      <td>-122.286533</td>\n",
       "      <td>-121.874119</td>\n",
       "    </tr>\n",
       "    <tr>\n",
       "      <th>end_station_id</th>\n",
       "      <td>183215.0</td>\n",
       "      <td>136.249123</td>\n",
       "      <td>111.515131</td>\n",
       "      <td>3.000000</td>\n",
       "      <td>44.000000</td>\n",
       "      <td>100.000000</td>\n",
       "      <td>235.000000</td>\n",
       "      <td>398.000000</td>\n",
       "    </tr>\n",
       "    <tr>\n",
       "      <th>end_station_latitude</th>\n",
       "      <td>183412.0</td>\n",
       "      <td>37.771427</td>\n",
       "      <td>0.099490</td>\n",
       "      <td>37.317298</td>\n",
       "      <td>37.770407</td>\n",
       "      <td>37.781010</td>\n",
       "      <td>37.797320</td>\n",
       "      <td>37.880222</td>\n",
       "    </tr>\n",
       "    <tr>\n",
       "      <th>end_station_longitude</th>\n",
       "      <td>183412.0</td>\n",
       "      <td>-122.352250</td>\n",
       "      <td>0.116673</td>\n",
       "      <td>-122.453704</td>\n",
       "      <td>-122.411726</td>\n",
       "      <td>-122.398279</td>\n",
       "      <td>-122.288045</td>\n",
       "      <td>-121.874119</td>\n",
       "    </tr>\n",
       "    <tr>\n",
       "      <th>bike_id</th>\n",
       "      <td>183412.0</td>\n",
       "      <td>4472.906375</td>\n",
       "      <td>1664.383394</td>\n",
       "      <td>11.000000</td>\n",
       "      <td>3777.000000</td>\n",
       "      <td>4958.000000</td>\n",
       "      <td>5502.000000</td>\n",
       "      <td>6645.000000</td>\n",
       "    </tr>\n",
       "    <tr>\n",
       "      <th>member_birth_year</th>\n",
       "      <td>175147.0</td>\n",
       "      <td>1984.806437</td>\n",
       "      <td>10.116689</td>\n",
       "      <td>1878.000000</td>\n",
       "      <td>1980.000000</td>\n",
       "      <td>1987.000000</td>\n",
       "      <td>1992.000000</td>\n",
       "      <td>2001.000000</td>\n",
       "    </tr>\n",
       "  </tbody>\n",
       "</table>\n",
       "</div>"
      ],
      "text/plain": [
       "                            count         mean          std          min  \\\n",
       "duration_sec             183412.0   726.078435  1794.389780    61.000000   \n",
       "start_station_id         183215.0   138.590427   111.778864     3.000000   \n",
       "start_station_latitude   183412.0    37.771223     0.099581    37.317298   \n",
       "start_station_longitude  183412.0  -122.352664     0.117097  -122.453704   \n",
       "end_station_id           183215.0   136.249123   111.515131     3.000000   \n",
       "end_station_latitude     183412.0    37.771427     0.099490    37.317298   \n",
       "end_station_longitude    183412.0  -122.352250     0.116673  -122.453704   \n",
       "bike_id                  183412.0  4472.906375  1664.383394    11.000000   \n",
       "member_birth_year        175147.0  1984.806437    10.116689  1878.000000   \n",
       "\n",
       "                                 25%          50%          75%           max  \n",
       "duration_sec              325.000000   514.000000   796.000000  85444.000000  \n",
       "start_station_id           47.000000   104.000000   239.000000    398.000000  \n",
       "start_station_latitude     37.770083    37.780760    37.797280     37.880222  \n",
       "start_station_longitude  -122.412408  -122.398285  -122.286533   -121.874119  \n",
       "end_station_id             44.000000   100.000000   235.000000    398.000000  \n",
       "end_station_latitude       37.770407    37.781010    37.797320     37.880222  \n",
       "end_station_longitude    -122.411726  -122.398279  -122.288045   -121.874119  \n",
       "bike_id                  3777.000000  4958.000000  5502.000000   6645.000000  \n",
       "member_birth_year        1980.000000  1987.000000  1992.000000   2001.000000  "
      ]
     },
     "execution_count": 6,
     "metadata": {},
     "output_type": "execute_result"
    }
   ],
   "source": [
    "\n",
    "bike.describe().T"
   ]
  },
  {
   "cell_type": "code",
   "execution_count": 7,
   "id": "0c939774",
   "metadata": {},
   "outputs": [
    {
     "data": {
      "text/plain": [
       "duration_sec                  0\n",
       "start_time                    0\n",
       "end_time                      0\n",
       "start_station_id            197\n",
       "start_station_name          197\n",
       "start_station_latitude        0\n",
       "start_station_longitude       0\n",
       "end_station_id              197\n",
       "end_station_name            197\n",
       "end_station_latitude          0\n",
       "end_station_longitude         0\n",
       "bike_id                       0\n",
       "user_type                     0\n",
       "member_birth_year          8265\n",
       "member_gender              8265\n",
       "bike_share_for_all_trip       0\n",
       "dtype: int64"
      ]
     },
     "execution_count": 7,
     "metadata": {},
     "output_type": "execute_result"
    }
   ],
   "source": [
    "# To check the number of missing values in each of the features\n",
    "bike.isnull().sum()"
   ]
  },
  {
   "cell_type": "markdown",
   "id": "b7600955",
   "metadata": {},
   "source": [
    "Missing values were found in the following columns start_station_id, start_station_name,end_station_id, end_station_name,member_birth_year and member_gender."
   ]
  },
  {
   "cell_type": "code",
   "execution_count": 8,
   "id": "8d02ce5e",
   "metadata": {},
   "outputs": [
    {
     "data": {
      "text/plain": [
       "array(['Male', nan, 'Other', 'Female'], dtype=object)"
      ]
     },
     "execution_count": 8,
     "metadata": {},
     "output_type": "execute_result"
    }
   ],
   "source": [
    "bike['member_gender'].unique()"
   ]
  },
  {
   "cell_type": "code",
   "execution_count": null,
   "id": "705637cc",
   "metadata": {},
   "outputs": [],
   "source": []
  },
  {
   "cell_type": "code",
   "execution_count": 9,
   "id": "8a0c126a",
   "metadata": {},
   "outputs": [
    {
     "data": {
      "text/plain": [
       "Market St at 10th St                                         3904\n",
       "San Francisco Caltrain Station 2  (Townsend St at 4th St)    3544\n",
       "Berry St at 4th St                                           3052\n",
       "Montgomery St BART Station (Market St at 2nd St)             2895\n",
       "Powell St BART Station (Market St at 4th St)                 2760\n",
       "                                                             ... \n",
       "Willow St at Vine St                                            9\n",
       "Parker Ave at McAllister St                                     7\n",
       "Palm St at Willow St                                            4\n",
       "21st Ave at International Blvd                                  4\n",
       "16th St Depot                                                   2\n",
       "Name: start_station_name, Length: 329, dtype: int64"
      ]
     },
     "execution_count": 9,
     "metadata": {},
     "output_type": "execute_result"
    }
   ],
   "source": [
    "bike['start_station_name'].value_counts()"
   ]
  },
  {
   "cell_type": "code",
   "execution_count": 10,
   "id": "a027dbfa",
   "metadata": {},
   "outputs": [
    {
     "data": {
      "text/plain": [
       "0"
      ]
     },
     "execution_count": 10,
     "metadata": {},
     "output_type": "execute_result"
    }
   ],
   "source": [
    "# to check if there is duplicates in the datasets\n",
    "len(bike[bike.duplicated()])"
   ]
  },
  {
   "cell_type": "markdown",
   "id": "91fb5d7d",
   "metadata": {},
   "source": [
    "Duplicates were not found in  datasets."
   ]
  },
  {
   "cell_type": "code",
   "execution_count": 11,
   "id": "8b5a2939",
   "metadata": {},
   "outputs": [
    {
     "data": {
      "text/plain": [
       "85444"
      ]
     },
     "execution_count": 11,
     "metadata": {},
     "output_type": "execute_result"
    }
   ],
   "source": [
    "max_duration=bike['duration_sec'].max()\n",
    "max_duration"
   ]
  },
  {
   "cell_type": "code",
   "execution_count": 12,
   "id": "42f0e3f8",
   "metadata": {},
   "outputs": [
    {
     "data": {
      "text/html": [
       "<div>\n",
       "<style scoped>\n",
       "    .dataframe tbody tr th:only-of-type {\n",
       "        vertical-align: middle;\n",
       "    }\n",
       "\n",
       "    .dataframe tbody tr th {\n",
       "        vertical-align: top;\n",
       "    }\n",
       "\n",
       "    .dataframe thead th {\n",
       "        text-align: right;\n",
       "    }\n",
       "</style>\n",
       "<table border=\"1\" class=\"dataframe\">\n",
       "  <thead>\n",
       "    <tr style=\"text-align: right;\">\n",
       "      <th></th>\n",
       "      <th>duration_sec</th>\n",
       "      <th>start_time</th>\n",
       "      <th>end_time</th>\n",
       "      <th>start_station_id</th>\n",
       "      <th>start_station_name</th>\n",
       "      <th>start_station_latitude</th>\n",
       "      <th>start_station_longitude</th>\n",
       "      <th>end_station_id</th>\n",
       "      <th>end_station_name</th>\n",
       "      <th>end_station_latitude</th>\n",
       "      <th>end_station_longitude</th>\n",
       "      <th>bike_id</th>\n",
       "      <th>user_type</th>\n",
       "      <th>member_birth_year</th>\n",
       "      <th>member_gender</th>\n",
       "      <th>bike_share_for_all_trip</th>\n",
       "    </tr>\n",
       "  </thead>\n",
       "  <tbody>\n",
       "    <tr>\n",
       "      <th>101361</th>\n",
       "      <td>85444</td>\n",
       "      <td>2019-02-13 17:59:55.1240</td>\n",
       "      <td>2019-02-14 17:43:59.9540</td>\n",
       "      <td>5.0</td>\n",
       "      <td>Powell St BART Station (Market St at 5th St)</td>\n",
       "      <td>37.783899</td>\n",
       "      <td>-122.408445</td>\n",
       "      <td>98.0</td>\n",
       "      <td>Valencia St at 16th St</td>\n",
       "      <td>37.765052</td>\n",
       "      <td>-122.421866</td>\n",
       "      <td>6168</td>\n",
       "      <td>Subscriber</td>\n",
       "      <td>NaN</td>\n",
       "      <td>NaN</td>\n",
       "      <td>No</td>\n",
       "    </tr>\n",
       "  </tbody>\n",
       "</table>\n",
       "</div>"
      ],
      "text/plain": [
       "        duration_sec                start_time                  end_time  \\\n",
       "101361         85444  2019-02-13 17:59:55.1240  2019-02-14 17:43:59.9540   \n",
       "\n",
       "        start_station_id                            start_station_name  \\\n",
       "101361               5.0  Powell St BART Station (Market St at 5th St)   \n",
       "\n",
       "        start_station_latitude  start_station_longitude  end_station_id  \\\n",
       "101361               37.783899              -122.408445            98.0   \n",
       "\n",
       "              end_station_name  end_station_latitude  end_station_longitude  \\\n",
       "101361  Valencia St at 16th St             37.765052            -122.421866   \n",
       "\n",
       "        bike_id   user_type  member_birth_year member_gender  \\\n",
       "101361     6168  Subscriber                NaN           NaN   \n",
       "\n",
       "       bike_share_for_all_trip  \n",
       "101361                      No  "
      ]
     },
     "execution_count": 12,
     "metadata": {},
     "output_type": "execute_result"
    }
   ],
   "source": [
    "bike[bike['duration_sec']==max_duration]"
   ]
  },
  {
   "cell_type": "markdown",
   "id": "eb112362",
   "metadata": {},
   "source": [
    "#### Quality Issue\n",
    "* Missing records from the following columns('start_station_id','start_station_name','end_station_id','end_station_name','member_birth_year' and 'member_gender')\n",
    "* Inaccurate datatypes for start_time,end_time,member_birth_year,start_id and end_id"
   ]
  },
  {
   "cell_type": "markdown",
   "id": "c4f27e45",
   "metadata": {},
   "source": [
    "### Data Cleaning\n",
    "In this section i'll handle all the issues highlighted while assessing the data"
   ]
  },
  {
   "cell_type": "code",
   "execution_count": 13,
   "id": "01dff384",
   "metadata": {},
   "outputs": [],
   "source": [
    "#copy the data frame\n",
    "bike_clean = bike.copy()"
   ]
  },
  {
   "cell_type": "code",
   "execution_count": 14,
   "id": "f98db073",
   "metadata": {},
   "outputs": [],
   "source": [
    "# remove all null values\n",
    "bike_clean.dropna(inplace=True)"
   ]
  },
  {
   "cell_type": "code",
   "execution_count": 15,
   "id": "1ca129b0",
   "metadata": {},
   "outputs": [
    {
     "data": {
      "text/plain": [
       "duration_sec               0\n",
       "start_time                 0\n",
       "end_time                   0\n",
       "start_station_id           0\n",
       "start_station_name         0\n",
       "start_station_latitude     0\n",
       "start_station_longitude    0\n",
       "end_station_id             0\n",
       "end_station_name           0\n",
       "end_station_latitude       0\n",
       "end_station_longitude      0\n",
       "bike_id                    0\n",
       "user_type                  0\n",
       "member_birth_year          0\n",
       "member_gender              0\n",
       "bike_share_for_all_trip    0\n",
       "dtype: int64"
      ]
     },
     "execution_count": 15,
     "metadata": {},
     "output_type": "execute_result"
    }
   ],
   "source": [
    "bike_clean.isnull().sum()"
   ]
  },
  {
   "cell_type": "code",
   "execution_count": 16,
   "id": "b3e0bfcc",
   "metadata": {},
   "outputs": [],
   "source": [
    "# change datatype frome string to dattetime\n",
    "bike_clean['start_time']= pd.DatetimeIndex(bike_clean['start_time'])\n",
    "bike_clean['end_time']= pd.DatetimeIndex(bike_clean['end_time'])"
   ]
  },
  {
   "cell_type": "code",
   "execution_count": 17,
   "id": "4cfb69c3",
   "metadata": {},
   "outputs": [],
   "source": [
    "# change datatype from string to integer\n",
    "bike_clean['member_birth_year']= bike_clean['member_birth_year'].astype('int64')\n",
    "bike_clean['start_station_id']=bike_clean['start_station_id'].astype('int64')\n",
    "bike_clean['end_station_id']=bike_clean['end_station_id'].astype('int64')"
   ]
  },
  {
   "cell_type": "code",
   "execution_count": 18,
   "id": "b74b6169",
   "metadata": {},
   "outputs": [
    {
     "data": {
      "text/html": [
       "<div>\n",
       "<style scoped>\n",
       "    .dataframe tbody tr th:only-of-type {\n",
       "        vertical-align: middle;\n",
       "    }\n",
       "\n",
       "    .dataframe tbody tr th {\n",
       "        vertical-align: top;\n",
       "    }\n",
       "\n",
       "    .dataframe thead th {\n",
       "        text-align: right;\n",
       "    }\n",
       "</style>\n",
       "<table border=\"1\" class=\"dataframe\">\n",
       "  <thead>\n",
       "    <tr style=\"text-align: right;\">\n",
       "      <th></th>\n",
       "      <th>duration_sec</th>\n",
       "      <th>start_time</th>\n",
       "      <th>end_time</th>\n",
       "      <th>start_station_id</th>\n",
       "      <th>start_station_name</th>\n",
       "      <th>start_station_latitude</th>\n",
       "      <th>start_station_longitude</th>\n",
       "      <th>end_station_id</th>\n",
       "      <th>end_station_name</th>\n",
       "      <th>end_station_latitude</th>\n",
       "      <th>end_station_longitude</th>\n",
       "      <th>bike_id</th>\n",
       "      <th>user_type</th>\n",
       "      <th>member_birth_year</th>\n",
       "      <th>member_gender</th>\n",
       "      <th>bike_share_for_all_trip</th>\n",
       "    </tr>\n",
       "  </thead>\n",
       "  <tbody>\n",
       "    <tr>\n",
       "      <th>0</th>\n",
       "      <td>52185</td>\n",
       "      <td>2019-02-28 17:32:10.1450</td>\n",
       "      <td>2019-03-01 08:01:55.9750</td>\n",
       "      <td>21.0</td>\n",
       "      <td>Montgomery St BART Station (Market St at 2nd St)</td>\n",
       "      <td>37.789625</td>\n",
       "      <td>-122.400811</td>\n",
       "      <td>13.0</td>\n",
       "      <td>Commercial St at Montgomery St</td>\n",
       "      <td>37.794231</td>\n",
       "      <td>-122.402923</td>\n",
       "      <td>4902</td>\n",
       "      <td>Customer</td>\n",
       "      <td>1984.0</td>\n",
       "      <td>Male</td>\n",
       "      <td>No</td>\n",
       "    </tr>\n",
       "    <tr>\n",
       "      <th>1</th>\n",
       "      <td>42521</td>\n",
       "      <td>2019-02-28 18:53:21.7890</td>\n",
       "      <td>2019-03-01 06:42:03.0560</td>\n",
       "      <td>23.0</td>\n",
       "      <td>The Embarcadero at Steuart St</td>\n",
       "      <td>37.791464</td>\n",
       "      <td>-122.391034</td>\n",
       "      <td>81.0</td>\n",
       "      <td>Berry St at 4th St</td>\n",
       "      <td>37.775880</td>\n",
       "      <td>-122.393170</td>\n",
       "      <td>2535</td>\n",
       "      <td>Customer</td>\n",
       "      <td>NaN</td>\n",
       "      <td>NaN</td>\n",
       "      <td>No</td>\n",
       "    </tr>\n",
       "    <tr>\n",
       "      <th>2</th>\n",
       "      <td>61854</td>\n",
       "      <td>2019-02-28 12:13:13.2180</td>\n",
       "      <td>2019-03-01 05:24:08.1460</td>\n",
       "      <td>86.0</td>\n",
       "      <td>Market St at Dolores St</td>\n",
       "      <td>37.769305</td>\n",
       "      <td>-122.426826</td>\n",
       "      <td>3.0</td>\n",
       "      <td>Powell St BART Station (Market St at 4th St)</td>\n",
       "      <td>37.786375</td>\n",
       "      <td>-122.404904</td>\n",
       "      <td>5905</td>\n",
       "      <td>Customer</td>\n",
       "      <td>1972.0</td>\n",
       "      <td>Male</td>\n",
       "      <td>No</td>\n",
       "    </tr>\n",
       "    <tr>\n",
       "      <th>3</th>\n",
       "      <td>36490</td>\n",
       "      <td>2019-02-28 17:54:26.0100</td>\n",
       "      <td>2019-03-01 04:02:36.8420</td>\n",
       "      <td>375.0</td>\n",
       "      <td>Grove St at Masonic Ave</td>\n",
       "      <td>37.774836</td>\n",
       "      <td>-122.446546</td>\n",
       "      <td>70.0</td>\n",
       "      <td>Central Ave at Fell St</td>\n",
       "      <td>37.773311</td>\n",
       "      <td>-122.444293</td>\n",
       "      <td>6638</td>\n",
       "      <td>Subscriber</td>\n",
       "      <td>1989.0</td>\n",
       "      <td>Other</td>\n",
       "      <td>No</td>\n",
       "    </tr>\n",
       "    <tr>\n",
       "      <th>4</th>\n",
       "      <td>1585</td>\n",
       "      <td>2019-02-28 23:54:18.5490</td>\n",
       "      <td>2019-03-01 00:20:44.0740</td>\n",
       "      <td>7.0</td>\n",
       "      <td>Frank H Ogawa Plaza</td>\n",
       "      <td>37.804562</td>\n",
       "      <td>-122.271738</td>\n",
       "      <td>222.0</td>\n",
       "      <td>10th Ave at E 15th St</td>\n",
       "      <td>37.792714</td>\n",
       "      <td>-122.248780</td>\n",
       "      <td>4898</td>\n",
       "      <td>Subscriber</td>\n",
       "      <td>1974.0</td>\n",
       "      <td>Male</td>\n",
       "      <td>Yes</td>\n",
       "    </tr>\n",
       "  </tbody>\n",
       "</table>\n",
       "</div>"
      ],
      "text/plain": [
       "   duration_sec                start_time                  end_time  \\\n",
       "0         52185  2019-02-28 17:32:10.1450  2019-03-01 08:01:55.9750   \n",
       "1         42521  2019-02-28 18:53:21.7890  2019-03-01 06:42:03.0560   \n",
       "2         61854  2019-02-28 12:13:13.2180  2019-03-01 05:24:08.1460   \n",
       "3         36490  2019-02-28 17:54:26.0100  2019-03-01 04:02:36.8420   \n",
       "4          1585  2019-02-28 23:54:18.5490  2019-03-01 00:20:44.0740   \n",
       "\n",
       "   start_station_id                                start_station_name  \\\n",
       "0              21.0  Montgomery St BART Station (Market St at 2nd St)   \n",
       "1              23.0                     The Embarcadero at Steuart St   \n",
       "2              86.0                           Market St at Dolores St   \n",
       "3             375.0                           Grove St at Masonic Ave   \n",
       "4               7.0                               Frank H Ogawa Plaza   \n",
       "\n",
       "   start_station_latitude  start_station_longitude  end_station_id  \\\n",
       "0               37.789625              -122.400811            13.0   \n",
       "1               37.791464              -122.391034            81.0   \n",
       "2               37.769305              -122.426826             3.0   \n",
       "3               37.774836              -122.446546            70.0   \n",
       "4               37.804562              -122.271738           222.0   \n",
       "\n",
       "                               end_station_name  end_station_latitude  \\\n",
       "0                Commercial St at Montgomery St             37.794231   \n",
       "1                            Berry St at 4th St             37.775880   \n",
       "2  Powell St BART Station (Market St at 4th St)             37.786375   \n",
       "3                        Central Ave at Fell St             37.773311   \n",
       "4                         10th Ave at E 15th St             37.792714   \n",
       "\n",
       "   end_station_longitude  bike_id   user_type  member_birth_year  \\\n",
       "0            -122.402923     4902    Customer             1984.0   \n",
       "1            -122.393170     2535    Customer                NaN   \n",
       "2            -122.404904     5905    Customer             1972.0   \n",
       "3            -122.444293     6638  Subscriber             1989.0   \n",
       "4            -122.248780     4898  Subscriber             1974.0   \n",
       "\n",
       "  member_gender bike_share_for_all_trip  \n",
       "0          Male                      No  \n",
       "1           NaN                      No  \n",
       "2          Male                      No  \n",
       "3         Other                      No  \n",
       "4          Male                     Yes  "
      ]
     },
     "execution_count": 18,
     "metadata": {},
     "output_type": "execute_result"
    }
   ],
   "source": [
    "bike.head()"
   ]
  },
  {
   "cell_type": "code",
   "execution_count": 19,
   "id": "efcc8597",
   "metadata": {},
   "outputs": [],
   "source": [
    "bike_clean.drop(columns=['start_station_latitude','end_station_latitude'],inplace=True)"
   ]
  },
  {
   "cell_type": "code",
   "execution_count": 20,
   "id": "522c7a7f",
   "metadata": {},
   "outputs": [
    {
     "data": {
      "text/html": [
       "<div>\n",
       "<style scoped>\n",
       "    .dataframe tbody tr th:only-of-type {\n",
       "        vertical-align: middle;\n",
       "    }\n",
       "\n",
       "    .dataframe tbody tr th {\n",
       "        vertical-align: top;\n",
       "    }\n",
       "\n",
       "    .dataframe thead th {\n",
       "        text-align: right;\n",
       "    }\n",
       "</style>\n",
       "<table border=\"1\" class=\"dataframe\">\n",
       "  <thead>\n",
       "    <tr style=\"text-align: right;\">\n",
       "      <th></th>\n",
       "      <th>duration_sec</th>\n",
       "      <th>start_time</th>\n",
       "      <th>end_time</th>\n",
       "      <th>start_station_id</th>\n",
       "      <th>start_station_name</th>\n",
       "      <th>start_station_longitude</th>\n",
       "      <th>end_station_id</th>\n",
       "      <th>end_station_name</th>\n",
       "      <th>end_station_longitude</th>\n",
       "      <th>bike_id</th>\n",
       "      <th>user_type</th>\n",
       "      <th>member_birth_year</th>\n",
       "      <th>member_gender</th>\n",
       "      <th>bike_share_for_all_trip</th>\n",
       "    </tr>\n",
       "  </thead>\n",
       "  <tbody>\n",
       "    <tr>\n",
       "      <th>0</th>\n",
       "      <td>52185</td>\n",
       "      <td>2019-02-28 17:32:10.145</td>\n",
       "      <td>2019-03-01 08:01:55.975</td>\n",
       "      <td>21</td>\n",
       "      <td>Montgomery St BART Station (Market St at 2nd St)</td>\n",
       "      <td>-122.400811</td>\n",
       "      <td>13</td>\n",
       "      <td>Commercial St at Montgomery St</td>\n",
       "      <td>-122.402923</td>\n",
       "      <td>4902</td>\n",
       "      <td>Customer</td>\n",
       "      <td>1984</td>\n",
       "      <td>Male</td>\n",
       "      <td>No</td>\n",
       "    </tr>\n",
       "    <tr>\n",
       "      <th>2</th>\n",
       "      <td>61854</td>\n",
       "      <td>2019-02-28 12:13:13.218</td>\n",
       "      <td>2019-03-01 05:24:08.146</td>\n",
       "      <td>86</td>\n",
       "      <td>Market St at Dolores St</td>\n",
       "      <td>-122.426826</td>\n",
       "      <td>3</td>\n",
       "      <td>Powell St BART Station (Market St at 4th St)</td>\n",
       "      <td>-122.404904</td>\n",
       "      <td>5905</td>\n",
       "      <td>Customer</td>\n",
       "      <td>1972</td>\n",
       "      <td>Male</td>\n",
       "      <td>No</td>\n",
       "    </tr>\n",
       "    <tr>\n",
       "      <th>3</th>\n",
       "      <td>36490</td>\n",
       "      <td>2019-02-28 17:54:26.010</td>\n",
       "      <td>2019-03-01 04:02:36.842</td>\n",
       "      <td>375</td>\n",
       "      <td>Grove St at Masonic Ave</td>\n",
       "      <td>-122.446546</td>\n",
       "      <td>70</td>\n",
       "      <td>Central Ave at Fell St</td>\n",
       "      <td>-122.444293</td>\n",
       "      <td>6638</td>\n",
       "      <td>Subscriber</td>\n",
       "      <td>1989</td>\n",
       "      <td>Other</td>\n",
       "      <td>No</td>\n",
       "    </tr>\n",
       "    <tr>\n",
       "      <th>4</th>\n",
       "      <td>1585</td>\n",
       "      <td>2019-02-28 23:54:18.549</td>\n",
       "      <td>2019-03-01 00:20:44.074</td>\n",
       "      <td>7</td>\n",
       "      <td>Frank H Ogawa Plaza</td>\n",
       "      <td>-122.271738</td>\n",
       "      <td>222</td>\n",
       "      <td>10th Ave at E 15th St</td>\n",
       "      <td>-122.248780</td>\n",
       "      <td>4898</td>\n",
       "      <td>Subscriber</td>\n",
       "      <td>1974</td>\n",
       "      <td>Male</td>\n",
       "      <td>Yes</td>\n",
       "    </tr>\n",
       "    <tr>\n",
       "      <th>5</th>\n",
       "      <td>1793</td>\n",
       "      <td>2019-02-28 23:49:58.632</td>\n",
       "      <td>2019-03-01 00:19:51.760</td>\n",
       "      <td>93</td>\n",
       "      <td>4th St at Mission Bay Blvd S</td>\n",
       "      <td>-122.391198</td>\n",
       "      <td>323</td>\n",
       "      <td>Broadway at Kearny</td>\n",
       "      <td>-122.405950</td>\n",
       "      <td>5200</td>\n",
       "      <td>Subscriber</td>\n",
       "      <td>1959</td>\n",
       "      <td>Male</td>\n",
       "      <td>No</td>\n",
       "    </tr>\n",
       "    <tr>\n",
       "      <th>...</th>\n",
       "      <td>...</td>\n",
       "      <td>...</td>\n",
       "      <td>...</td>\n",
       "      <td>...</td>\n",
       "      <td>...</td>\n",
       "      <td>...</td>\n",
       "      <td>...</td>\n",
       "      <td>...</td>\n",
       "      <td>...</td>\n",
       "      <td>...</td>\n",
       "      <td>...</td>\n",
       "      <td>...</td>\n",
       "      <td>...</td>\n",
       "      <td>...</td>\n",
       "    </tr>\n",
       "    <tr>\n",
       "      <th>183407</th>\n",
       "      <td>480</td>\n",
       "      <td>2019-02-01 00:04:49.724</td>\n",
       "      <td>2019-02-01 00:12:50.034</td>\n",
       "      <td>27</td>\n",
       "      <td>Beale St at Harrison St</td>\n",
       "      <td>-122.391865</td>\n",
       "      <td>324</td>\n",
       "      <td>Union Square (Powell St at Post St)</td>\n",
       "      <td>-122.408531</td>\n",
       "      <td>4832</td>\n",
       "      <td>Subscriber</td>\n",
       "      <td>1996</td>\n",
       "      <td>Male</td>\n",
       "      <td>No</td>\n",
       "    </tr>\n",
       "    <tr>\n",
       "      <th>183408</th>\n",
       "      <td>313</td>\n",
       "      <td>2019-02-01 00:05:34.744</td>\n",
       "      <td>2019-02-01 00:10:48.502</td>\n",
       "      <td>21</td>\n",
       "      <td>Montgomery St BART Station (Market St at 2nd St)</td>\n",
       "      <td>-122.400811</td>\n",
       "      <td>66</td>\n",
       "      <td>3rd St at Townsend St</td>\n",
       "      <td>-122.392741</td>\n",
       "      <td>4960</td>\n",
       "      <td>Subscriber</td>\n",
       "      <td>1984</td>\n",
       "      <td>Male</td>\n",
       "      <td>No</td>\n",
       "    </tr>\n",
       "    <tr>\n",
       "      <th>183409</th>\n",
       "      <td>141</td>\n",
       "      <td>2019-02-01 00:06:05.549</td>\n",
       "      <td>2019-02-01 00:08:27.220</td>\n",
       "      <td>278</td>\n",
       "      <td>The Alameda at Bush St</td>\n",
       "      <td>-121.904888</td>\n",
       "      <td>277</td>\n",
       "      <td>Morrison Ave at Julian St</td>\n",
       "      <td>-121.908586</td>\n",
       "      <td>3824</td>\n",
       "      <td>Subscriber</td>\n",
       "      <td>1990</td>\n",
       "      <td>Male</td>\n",
       "      <td>Yes</td>\n",
       "    </tr>\n",
       "    <tr>\n",
       "      <th>183410</th>\n",
       "      <td>139</td>\n",
       "      <td>2019-02-01 00:05:34.360</td>\n",
       "      <td>2019-02-01 00:07:54.287</td>\n",
       "      <td>220</td>\n",
       "      <td>San Pablo Ave at MLK Jr Way</td>\n",
       "      <td>-122.273422</td>\n",
       "      <td>216</td>\n",
       "      <td>San Pablo Ave at 27th St</td>\n",
       "      <td>-122.275698</td>\n",
       "      <td>5095</td>\n",
       "      <td>Subscriber</td>\n",
       "      <td>1988</td>\n",
       "      <td>Male</td>\n",
       "      <td>No</td>\n",
       "    </tr>\n",
       "    <tr>\n",
       "      <th>183411</th>\n",
       "      <td>271</td>\n",
       "      <td>2019-02-01 00:00:20.636</td>\n",
       "      <td>2019-02-01 00:04:52.058</td>\n",
       "      <td>24</td>\n",
       "      <td>Spear St at Folsom St</td>\n",
       "      <td>-122.390428</td>\n",
       "      <td>37</td>\n",
       "      <td>2nd St at Folsom St</td>\n",
       "      <td>-122.395936</td>\n",
       "      <td>1057</td>\n",
       "      <td>Subscriber</td>\n",
       "      <td>1989</td>\n",
       "      <td>Male</td>\n",
       "      <td>No</td>\n",
       "    </tr>\n",
       "  </tbody>\n",
       "</table>\n",
       "<p>174952 rows × 14 columns</p>\n",
       "</div>"
      ],
      "text/plain": [
       "        duration_sec              start_time                end_time  \\\n",
       "0              52185 2019-02-28 17:32:10.145 2019-03-01 08:01:55.975   \n",
       "2              61854 2019-02-28 12:13:13.218 2019-03-01 05:24:08.146   \n",
       "3              36490 2019-02-28 17:54:26.010 2019-03-01 04:02:36.842   \n",
       "4               1585 2019-02-28 23:54:18.549 2019-03-01 00:20:44.074   \n",
       "5               1793 2019-02-28 23:49:58.632 2019-03-01 00:19:51.760   \n",
       "...              ...                     ...                     ...   \n",
       "183407           480 2019-02-01 00:04:49.724 2019-02-01 00:12:50.034   \n",
       "183408           313 2019-02-01 00:05:34.744 2019-02-01 00:10:48.502   \n",
       "183409           141 2019-02-01 00:06:05.549 2019-02-01 00:08:27.220   \n",
       "183410           139 2019-02-01 00:05:34.360 2019-02-01 00:07:54.287   \n",
       "183411           271 2019-02-01 00:00:20.636 2019-02-01 00:04:52.058   \n",
       "\n",
       "        start_station_id                                start_station_name  \\\n",
       "0                     21  Montgomery St BART Station (Market St at 2nd St)   \n",
       "2                     86                           Market St at Dolores St   \n",
       "3                    375                           Grove St at Masonic Ave   \n",
       "4                      7                               Frank H Ogawa Plaza   \n",
       "5                     93                      4th St at Mission Bay Blvd S   \n",
       "...                  ...                                               ...   \n",
       "183407                27                           Beale St at Harrison St   \n",
       "183408                21  Montgomery St BART Station (Market St at 2nd St)   \n",
       "183409               278                            The Alameda at Bush St   \n",
       "183410               220                       San Pablo Ave at MLK Jr Way   \n",
       "183411                24                             Spear St at Folsom St   \n",
       "\n",
       "        start_station_longitude  end_station_id  \\\n",
       "0                   -122.400811              13   \n",
       "2                   -122.426826               3   \n",
       "3                   -122.446546              70   \n",
       "4                   -122.271738             222   \n",
       "5                   -122.391198             323   \n",
       "...                         ...             ...   \n",
       "183407              -122.391865             324   \n",
       "183408              -122.400811              66   \n",
       "183409              -121.904888             277   \n",
       "183410              -122.273422             216   \n",
       "183411              -122.390428              37   \n",
       "\n",
       "                                    end_station_name  end_station_longitude  \\\n",
       "0                     Commercial St at Montgomery St            -122.402923   \n",
       "2       Powell St BART Station (Market St at 4th St)            -122.404904   \n",
       "3                             Central Ave at Fell St            -122.444293   \n",
       "4                              10th Ave at E 15th St            -122.248780   \n",
       "5                                 Broadway at Kearny            -122.405950   \n",
       "...                                              ...                    ...   \n",
       "183407           Union Square (Powell St at Post St)            -122.408531   \n",
       "183408                         3rd St at Townsend St            -122.392741   \n",
       "183409                     Morrison Ave at Julian St            -121.908586   \n",
       "183410                      San Pablo Ave at 27th St            -122.275698   \n",
       "183411                           2nd St at Folsom St            -122.395936   \n",
       "\n",
       "        bike_id   user_type  member_birth_year member_gender  \\\n",
       "0          4902    Customer               1984          Male   \n",
       "2          5905    Customer               1972          Male   \n",
       "3          6638  Subscriber               1989         Other   \n",
       "4          4898  Subscriber               1974          Male   \n",
       "5          5200  Subscriber               1959          Male   \n",
       "...         ...         ...                ...           ...   \n",
       "183407     4832  Subscriber               1996          Male   \n",
       "183408     4960  Subscriber               1984          Male   \n",
       "183409     3824  Subscriber               1990          Male   \n",
       "183410     5095  Subscriber               1988          Male   \n",
       "183411     1057  Subscriber               1989          Male   \n",
       "\n",
       "       bike_share_for_all_trip  \n",
       "0                           No  \n",
       "2                           No  \n",
       "3                           No  \n",
       "4                          Yes  \n",
       "5                           No  \n",
       "...                        ...  \n",
       "183407                      No  \n",
       "183408                      No  \n",
       "183409                     Yes  \n",
       "183410                      No  \n",
       "183411                      No  \n",
       "\n",
       "[174952 rows x 14 columns]"
      ]
     },
     "execution_count": 20,
     "metadata": {},
     "output_type": "execute_result"
    }
   ],
   "source": [
    "bike_clean"
   ]
  },
  {
   "cell_type": "code",
   "execution_count": 21,
   "id": "6f87035b",
   "metadata": {},
   "outputs": [
    {
     "data": {
      "text/plain": [
       "(174952, 14)"
      ]
     },
     "execution_count": 21,
     "metadata": {},
     "output_type": "execute_result"
    }
   ],
   "source": [
    "bike_clean.shape"
   ]
  },
  {
   "cell_type": "markdown",
   "id": "9604a20b",
   "metadata": {},
   "source": [
    "## Feature Engineering"
   ]
  },
  {
   "cell_type": "code",
   "execution_count": 22,
   "id": "0b8f4420",
   "metadata": {},
   "outputs": [],
   "source": [
    "#Extract the year from the start_time column\n",
    "bike_clean['start_year']= bike_clean['start_time'].dt.year\n",
    "#Extract the month in words from the start_time column\n",
    "bike_clean['start_month']=bike_clean['start_time'].dt.month_name()\n",
    "# Extract the day of the week from the start_time column\n",
    "bike_clean['start_day_of_week']=bike_clean['start_time'].dt.day_name()\n",
    "# Extract the hour from the start_time column\n",
    "bike_clean['start_hour']= bike_clean['start_time'].dt.hour\n",
    "# Extract day from the start_time column\n",
    "bike_clean['day']=bike_clean['start_time'].dt.day"
   ]
  },
  {
   "cell_type": "markdown",
   "id": "e039b526",
   "metadata": {},
   "source": []
  },
  {
   "cell_type": "code",
   "execution_count": 23,
   "id": "286f5770",
   "metadata": {},
   "outputs": [],
   "source": [
    "# To find the Aage of member\n",
    "bike_clean['member_age']=bike_clean['start_year']-bike_clean['member_birth_year']"
   ]
  },
  {
   "cell_type": "markdown",
   "id": "1de25104",
   "metadata": {},
   "source": [
    "#### To find which of the trips is a round trip"
   ]
  },
  {
   "cell_type": "code",
   "execution_count": 24,
   "id": "6548fe6a",
   "metadata": {},
   "outputs": [],
   "source": [
    "\n",
    "def round_trip(x):\n",
    "    '''\n",
    "        Parameters\n",
    "            Returns two strings\n",
    "                Yes: if the start_station_id is similarto that of the end_station_id\n",
    "                No : if the the start_station_id is not similar to that of en_station_id\n",
    "    \n",
    "    '''\n",
    "    if x['start_station_id']== x['end_station_id']:\n",
    "        return 'Yes'\n",
    "    else:\n",
    "        return 'No'\n",
    "bike_clean['is_round_trip']= bike_clean.apply(round_trip,axis=1)\n",
    "        \n",
    "    \n",
    "      "
   ]
  },
  {
   "cell_type": "code",
   "execution_count": 25,
   "id": "ca4cc363",
   "metadata": {},
   "outputs": [
    {
     "data": {
      "text/plain": [
       "array([17, 12, 23, 22, 21, 18, 20, 19, 10, 15, 16,  9, 11,  0, 13, 14,  8,\n",
       "        7,  5,  6,  4,  3,  2,  1], dtype=int64)"
      ]
     },
     "execution_count": 25,
     "metadata": {},
     "output_type": "execute_result"
    }
   ],
   "source": [
    "bike_clean['start_hour'].unique()"
   ]
  },
  {
   "cell_type": "code",
   "execution_count": 26,
   "id": "d88c1e15",
   "metadata": {},
   "outputs": [],
   "source": [
    "def age_group(x):\n",
    "    '''\n",
    "        Parameters\n",
    "            Returns tree strings\n",
    "                Young adults : If the age of the members falls with the range of 18 and less than 36\n",
    "                Middle-age Adults: If the age of members falls within the range of 36 and less than 60\n",
    "                Old Adults :if the age of members is from 60 and above \n",
    "    \n",
    "    '''\n",
    "    \n",
    "    if x['member_age'] >=18  and x['member_age'] <36:\n",
    "        return 'Young Adults'\n",
    "    elif x['member_age'] >=36 and x['member_age'] < 60:\n",
    "        return 'Middle-age Adults'\n",
    "    else:\n",
    "        return 'Old Adults'\n",
    "bike_clean['age_group']= bike_clean.apply(age_group,axis=1)  "
   ]
  },
  {
   "cell_type": "code",
   "execution_count": null,
   "id": "eac7c580",
   "metadata": {},
   "outputs": [],
   "source": []
  },
  {
   "cell_type": "code",
   "execution_count": 27,
   "id": "b9eebc5a",
   "metadata": {},
   "outputs": [],
   "source": [
    "a = 0\n",
    "b =12\n",
    "c= 18\n",
    "\n",
    "def morning_noon_night(x):\n",
    "    if x['start_hour'] >= 0 and x['start_hour'] <12:\n",
    "        return 'morning'\n",
    "    elif x['start_hour'] >=12 and x['start_hour'] < 18:\n",
    "        return 'noon'\n",
    "    else:\n",
    "        return 'night'\n",
    "bike_clean['time_of_day']= bike_clean.apply(morning_noon_night,axis=1)"
   ]
  },
  {
   "cell_type": "code",
   "execution_count": 28,
   "id": "9897496e",
   "metadata": {},
   "outputs": [
    {
     "data": {
      "text/html": [
       "<div>\n",
       "<style scoped>\n",
       "    .dataframe tbody tr th:only-of-type {\n",
       "        vertical-align: middle;\n",
       "    }\n",
       "\n",
       "    .dataframe tbody tr th {\n",
       "        vertical-align: top;\n",
       "    }\n",
       "\n",
       "    .dataframe thead th {\n",
       "        text-align: right;\n",
       "    }\n",
       "</style>\n",
       "<table border=\"1\" class=\"dataframe\">\n",
       "  <thead>\n",
       "    <tr style=\"text-align: right;\">\n",
       "      <th></th>\n",
       "      <th>duration_sec</th>\n",
       "      <th>start_time</th>\n",
       "      <th>end_time</th>\n",
       "      <th>start_station_id</th>\n",
       "      <th>start_station_name</th>\n",
       "      <th>start_station_longitude</th>\n",
       "      <th>end_station_id</th>\n",
       "      <th>end_station_name</th>\n",
       "      <th>end_station_longitude</th>\n",
       "      <th>bike_id</th>\n",
       "      <th>...</th>\n",
       "      <th>bike_share_for_all_trip</th>\n",
       "      <th>start_year</th>\n",
       "      <th>start_month</th>\n",
       "      <th>start_day_of_week</th>\n",
       "      <th>start_hour</th>\n",
       "      <th>day</th>\n",
       "      <th>member_age</th>\n",
       "      <th>is_round_trip</th>\n",
       "      <th>age_group</th>\n",
       "      <th>time_of_day</th>\n",
       "    </tr>\n",
       "  </thead>\n",
       "  <tbody>\n",
       "    <tr>\n",
       "      <th>140905</th>\n",
       "      <td>389</td>\n",
       "      <td>2019-02-07 18:32:45.477</td>\n",
       "      <td>2019-02-07 18:39:15.219</td>\n",
       "      <td>58</td>\n",
       "      <td>Market St at 10th St</td>\n",
       "      <td>-122.417385</td>\n",
       "      <td>110</td>\n",
       "      <td>17th &amp; Folsom Street Park (17th St at Folsom St)</td>\n",
       "      <td>-122.415204</td>\n",
       "      <td>5114</td>\n",
       "      <td>...</td>\n",
       "      <td>No</td>\n",
       "      <td>2019</td>\n",
       "      <td>February</td>\n",
       "      <td>Thursday</td>\n",
       "      <td>18</td>\n",
       "      <td>7</td>\n",
       "      <td>32</td>\n",
       "      <td>No</td>\n",
       "      <td>Young Adults</td>\n",
       "      <td>night</td>\n",
       "    </tr>\n",
       "    <tr>\n",
       "      <th>83091</th>\n",
       "      <td>104</td>\n",
       "      <td>2019-02-18 08:18:36.591</td>\n",
       "      <td>2019-02-18 08:20:20.852</td>\n",
       "      <td>137</td>\n",
       "      <td>Jersey St at Castro St</td>\n",
       "      <td>-122.433950</td>\n",
       "      <td>138</td>\n",
       "      <td>Jersey St at Church St</td>\n",
       "      <td>-122.427411</td>\n",
       "      <td>4614</td>\n",
       "      <td>...</td>\n",
       "      <td>No</td>\n",
       "      <td>2019</td>\n",
       "      <td>February</td>\n",
       "      <td>Monday</td>\n",
       "      <td>8</td>\n",
       "      <td>18</td>\n",
       "      <td>31</td>\n",
       "      <td>No</td>\n",
       "      <td>Young Adults</td>\n",
       "      <td>morning</td>\n",
       "    </tr>\n",
       "    <tr>\n",
       "      <th>31141</th>\n",
       "      <td>131</td>\n",
       "      <td>2019-02-24 17:35:24.410</td>\n",
       "      <td>2019-02-24 17:37:35.555</td>\n",
       "      <td>50</td>\n",
       "      <td>2nd St at Townsend St</td>\n",
       "      <td>-122.390288</td>\n",
       "      <td>66</td>\n",
       "      <td>3rd St at Townsend St</td>\n",
       "      <td>-122.392741</td>\n",
       "      <td>4824</td>\n",
       "      <td>...</td>\n",
       "      <td>No</td>\n",
       "      <td>2019</td>\n",
       "      <td>February</td>\n",
       "      <td>Sunday</td>\n",
       "      <td>17</td>\n",
       "      <td>24</td>\n",
       "      <td>31</td>\n",
       "      <td>No</td>\n",
       "      <td>Young Adults</td>\n",
       "      <td>noon</td>\n",
       "    </tr>\n",
       "    <tr>\n",
       "      <th>168217</th>\n",
       "      <td>537</td>\n",
       "      <td>2019-02-04 15:55:37.240</td>\n",
       "      <td>2019-02-04 16:04:34.710</td>\n",
       "      <td>22</td>\n",
       "      <td>Howard St at Beale St</td>\n",
       "      <td>-122.394643</td>\n",
       "      <td>30</td>\n",
       "      <td>San Francisco Caltrain (Townsend St at 4th St)</td>\n",
       "      <td>-122.395282</td>\n",
       "      <td>5332</td>\n",
       "      <td>...</td>\n",
       "      <td>No</td>\n",
       "      <td>2019</td>\n",
       "      <td>February</td>\n",
       "      <td>Monday</td>\n",
       "      <td>15</td>\n",
       "      <td>4</td>\n",
       "      <td>38</td>\n",
       "      <td>No</td>\n",
       "      <td>Middle-age Adults</td>\n",
       "      <td>noon</td>\n",
       "    </tr>\n",
       "    <tr>\n",
       "      <th>126533</th>\n",
       "      <td>954</td>\n",
       "      <td>2019-02-10 18:20:53.893</td>\n",
       "      <td>2019-02-10 18:36:48.045</td>\n",
       "      <td>120</td>\n",
       "      <td>Mission Dolores Park</td>\n",
       "      <td>-122.426435</td>\n",
       "      <td>285</td>\n",
       "      <td>Webster St at O'Farrell St</td>\n",
       "      <td>-122.431158</td>\n",
       "      <td>5526</td>\n",
       "      <td>...</td>\n",
       "      <td>No</td>\n",
       "      <td>2019</td>\n",
       "      <td>February</td>\n",
       "      <td>Sunday</td>\n",
       "      <td>18</td>\n",
       "      <td>10</td>\n",
       "      <td>25</td>\n",
       "      <td>No</td>\n",
       "      <td>Young Adults</td>\n",
       "      <td>night</td>\n",
       "    </tr>\n",
       "    <tr>\n",
       "      <th>9358</th>\n",
       "      <td>767</td>\n",
       "      <td>2019-02-28 07:17:18.588</td>\n",
       "      <td>2019-02-28 07:30:06.576</td>\n",
       "      <td>4</td>\n",
       "      <td>Cyril Magnin St at Ellis St</td>\n",
       "      <td>-122.408915</td>\n",
       "      <td>25</td>\n",
       "      <td>Howard St at 2nd St</td>\n",
       "      <td>-122.397405</td>\n",
       "      <td>4810</td>\n",
       "      <td>...</td>\n",
       "      <td>No</td>\n",
       "      <td>2019</td>\n",
       "      <td>February</td>\n",
       "      <td>Thursday</td>\n",
       "      <td>7</td>\n",
       "      <td>28</td>\n",
       "      <td>20</td>\n",
       "      <td>No</td>\n",
       "      <td>Young Adults</td>\n",
       "      <td>morning</td>\n",
       "    </tr>\n",
       "    <tr>\n",
       "      <th>80435</th>\n",
       "      <td>1284</td>\n",
       "      <td>2019-02-18 15:23:53.573</td>\n",
       "      <td>2019-02-18 15:45:17.663</td>\n",
       "      <td>17</td>\n",
       "      <td>Embarcadero BART Station (Beale St at Market St)</td>\n",
       "      <td>-122.397086</td>\n",
       "      <td>62</td>\n",
       "      <td>Victoria Manalo Draves Park</td>\n",
       "      <td>-122.406432</td>\n",
       "      <td>6476</td>\n",
       "      <td>...</td>\n",
       "      <td>No</td>\n",
       "      <td>2019</td>\n",
       "      <td>February</td>\n",
       "      <td>Monday</td>\n",
       "      <td>15</td>\n",
       "      <td>18</td>\n",
       "      <td>40</td>\n",
       "      <td>No</td>\n",
       "      <td>Middle-age Adults</td>\n",
       "      <td>noon</td>\n",
       "    </tr>\n",
       "    <tr>\n",
       "      <th>126673</th>\n",
       "      <td>1189</td>\n",
       "      <td>2019-02-10 17:50:18.812</td>\n",
       "      <td>2019-02-10 18:10:08.224</td>\n",
       "      <td>377</td>\n",
       "      <td>Fell St at Stanyan St</td>\n",
       "      <td>-122.453704</td>\n",
       "      <td>34</td>\n",
       "      <td>Father Alfred E Boeddeker Park</td>\n",
       "      <td>-122.412408</td>\n",
       "      <td>5000</td>\n",
       "      <td>...</td>\n",
       "      <td>No</td>\n",
       "      <td>2019</td>\n",
       "      <td>February</td>\n",
       "      <td>Sunday</td>\n",
       "      <td>17</td>\n",
       "      <td>10</td>\n",
       "      <td>39</td>\n",
       "      <td>No</td>\n",
       "      <td>Middle-age Adults</td>\n",
       "      <td>noon</td>\n",
       "    </tr>\n",
       "    <tr>\n",
       "      <th>61725</th>\n",
       "      <td>788</td>\n",
       "      <td>2019-02-20 17:24:16.333</td>\n",
       "      <td>2019-02-20 17:37:24.538</td>\n",
       "      <td>66</td>\n",
       "      <td>3rd St at Townsend St</td>\n",
       "      <td>-122.392741</td>\n",
       "      <td>112</td>\n",
       "      <td>Harrison St at 17th St</td>\n",
       "      <td>-122.413004</td>\n",
       "      <td>5422</td>\n",
       "      <td>...</td>\n",
       "      <td>No</td>\n",
       "      <td>2019</td>\n",
       "      <td>February</td>\n",
       "      <td>Wednesday</td>\n",
       "      <td>17</td>\n",
       "      <td>20</td>\n",
       "      <td>21</td>\n",
       "      <td>No</td>\n",
       "      <td>Young Adults</td>\n",
       "      <td>noon</td>\n",
       "    </tr>\n",
       "    <tr>\n",
       "      <th>88869</th>\n",
       "      <td>227</td>\n",
       "      <td>2019-02-16 17:08:56.433</td>\n",
       "      <td>2019-02-16 17:12:43.944</td>\n",
       "      <td>89</td>\n",
       "      <td>Division St at Potrero Ave</td>\n",
       "      <td>-122.407646</td>\n",
       "      <td>336</td>\n",
       "      <td>Potrero Ave and Mariposa St</td>\n",
       "      <td>-122.407377</td>\n",
       "      <td>4759</td>\n",
       "      <td>...</td>\n",
       "      <td>No</td>\n",
       "      <td>2019</td>\n",
       "      <td>February</td>\n",
       "      <td>Saturday</td>\n",
       "      <td>17</td>\n",
       "      <td>16</td>\n",
       "      <td>32</td>\n",
       "      <td>No</td>\n",
       "      <td>Young Adults</td>\n",
       "      <td>noon</td>\n",
       "    </tr>\n",
       "  </tbody>\n",
       "</table>\n",
       "<p>10 rows × 23 columns</p>\n",
       "</div>"
      ],
      "text/plain": [
       "        duration_sec              start_time                end_time  \\\n",
       "140905           389 2019-02-07 18:32:45.477 2019-02-07 18:39:15.219   \n",
       "83091            104 2019-02-18 08:18:36.591 2019-02-18 08:20:20.852   \n",
       "31141            131 2019-02-24 17:35:24.410 2019-02-24 17:37:35.555   \n",
       "168217           537 2019-02-04 15:55:37.240 2019-02-04 16:04:34.710   \n",
       "126533           954 2019-02-10 18:20:53.893 2019-02-10 18:36:48.045   \n",
       "9358             767 2019-02-28 07:17:18.588 2019-02-28 07:30:06.576   \n",
       "80435           1284 2019-02-18 15:23:53.573 2019-02-18 15:45:17.663   \n",
       "126673          1189 2019-02-10 17:50:18.812 2019-02-10 18:10:08.224   \n",
       "61725            788 2019-02-20 17:24:16.333 2019-02-20 17:37:24.538   \n",
       "88869            227 2019-02-16 17:08:56.433 2019-02-16 17:12:43.944   \n",
       "\n",
       "        start_station_id                                start_station_name  \\\n",
       "140905                58                              Market St at 10th St   \n",
       "83091                137                            Jersey St at Castro St   \n",
       "31141                 50                             2nd St at Townsend St   \n",
       "168217                22                             Howard St at Beale St   \n",
       "126533               120                              Mission Dolores Park   \n",
       "9358                   4                       Cyril Magnin St at Ellis St   \n",
       "80435                 17  Embarcadero BART Station (Beale St at Market St)   \n",
       "126673               377                             Fell St at Stanyan St   \n",
       "61725                 66                             3rd St at Townsend St   \n",
       "88869                 89                        Division St at Potrero Ave   \n",
       "\n",
       "        start_station_longitude  end_station_id  \\\n",
       "140905              -122.417385             110   \n",
       "83091               -122.433950             138   \n",
       "31141               -122.390288              66   \n",
       "168217              -122.394643              30   \n",
       "126533              -122.426435             285   \n",
       "9358                -122.408915              25   \n",
       "80435               -122.397086              62   \n",
       "126673              -122.453704              34   \n",
       "61725               -122.392741             112   \n",
       "88869               -122.407646             336   \n",
       "\n",
       "                                        end_station_name  \\\n",
       "140905  17th & Folsom Street Park (17th St at Folsom St)   \n",
       "83091                             Jersey St at Church St   \n",
       "31141                              3rd St at Townsend St   \n",
       "168217    San Francisco Caltrain (Townsend St at 4th St)   \n",
       "126533                        Webster St at O'Farrell St   \n",
       "9358                                 Howard St at 2nd St   \n",
       "80435                        Victoria Manalo Draves Park   \n",
       "126673                    Father Alfred E Boeddeker Park   \n",
       "61725                             Harrison St at 17th St   \n",
       "88869                        Potrero Ave and Mariposa St   \n",
       "\n",
       "        end_station_longitude  bike_id  ... bike_share_for_all_trip  \\\n",
       "140905            -122.415204     5114  ...                      No   \n",
       "83091             -122.427411     4614  ...                      No   \n",
       "31141             -122.392741     4824  ...                      No   \n",
       "168217            -122.395282     5332  ...                      No   \n",
       "126533            -122.431158     5526  ...                      No   \n",
       "9358              -122.397405     4810  ...                      No   \n",
       "80435             -122.406432     6476  ...                      No   \n",
       "126673            -122.412408     5000  ...                      No   \n",
       "61725             -122.413004     5422  ...                      No   \n",
       "88869             -122.407377     4759  ...                      No   \n",
       "\n",
       "        start_year start_month start_day_of_week  start_hour day member_age  \\\n",
       "140905        2019    February          Thursday          18   7         32   \n",
       "83091         2019    February            Monday           8  18         31   \n",
       "31141         2019    February            Sunday          17  24         31   \n",
       "168217        2019    February            Monday          15   4         38   \n",
       "126533        2019    February            Sunday          18  10         25   \n",
       "9358          2019    February          Thursday           7  28         20   \n",
       "80435         2019    February            Monday          15  18         40   \n",
       "126673        2019    February            Sunday          17  10         39   \n",
       "61725         2019    February         Wednesday          17  20         21   \n",
       "88869         2019    February          Saturday          17  16         32   \n",
       "\n",
       "        is_round_trip          age_group  time_of_day  \n",
       "140905             No       Young Adults        night  \n",
       "83091              No       Young Adults      morning  \n",
       "31141              No       Young Adults         noon  \n",
       "168217             No  Middle-age Adults         noon  \n",
       "126533             No       Young Adults        night  \n",
       "9358               No       Young Adults      morning  \n",
       "80435              No  Middle-age Adults         noon  \n",
       "126673             No  Middle-age Adults         noon  \n",
       "61725              No       Young Adults         noon  \n",
       "88869              No       Young Adults         noon  \n",
       "\n",
       "[10 rows x 23 columns]"
      ]
     },
     "execution_count": 28,
     "metadata": {},
     "output_type": "execute_result"
    }
   ],
   "source": [
    "bike_clean.sample(10)"
   ]
  },
  {
   "cell_type": "code",
   "execution_count": 29,
   "id": "363f45be",
   "metadata": {},
   "outputs": [],
   "source": [
    "# convert duration to minutes\n",
    "\n",
    "bike_clean['duration_min']= bike_clean['duration_sec'] / 60"
   ]
  },
  {
   "cell_type": "code",
   "execution_count": 30,
   "id": "af4e45c8",
   "metadata": {},
   "outputs": [
    {
     "data": {
      "text/plain": [
       "array(['No', 'Yes'], dtype=object)"
      ]
     },
     "execution_count": 30,
     "metadata": {},
     "output_type": "execute_result"
    }
   ],
   "source": [
    "bike_clean['is_round_trip'].unique()"
   ]
  },
  {
   "cell_type": "code",
   "execution_count": 31,
   "id": "c1b59cec",
   "metadata": {},
   "outputs": [
    {
     "data": {
      "text/plain": [
       "array([2019], dtype=int64)"
      ]
     },
     "execution_count": 31,
     "metadata": {},
     "output_type": "execute_result"
    }
   ],
   "source": [
    "bike_clean['start_year'].unique()"
   ]
  },
  {
   "cell_type": "code",
   "execution_count": 32,
   "id": "11c77175",
   "metadata": {},
   "outputs": [],
   "source": [
    "bike_clean.to_csv('bike_clean.csv')"
   ]
  },
  {
   "cell_type": "markdown",
   "id": "255c4559",
   "metadata": {},
   "source": [
    "## Data Visualisation"
   ]
  },
  {
   "cell_type": "markdown",
   "id": "77c06619",
   "metadata": {},
   "source": [
    "### Univirate Exploration"
   ]
  },
  {
   "cell_type": "markdown",
   "id": "9accbaff",
   "metadata": {},
   "source": [
    "#### How are the  trip Duration Distributed?"
   ]
  },
  {
   "cell_type": "code",
   "execution_count": 33,
   "id": "8293d320",
   "metadata": {},
   "outputs": [
    {
     "data": {
      "text/plain": [
       "count    174952.000000\n",
       "mean         11.733379\n",
       "std          27.370082\n",
       "min           1.016667\n",
       "25%           5.383333\n",
       "50%           8.500000\n",
       "75%          13.150000\n",
       "max        1409.133333\n",
       "Name: duration_min, dtype: float64"
      ]
     },
     "execution_count": 33,
     "metadata": {},
     "output_type": "execute_result"
    }
   ],
   "source": [
    "bike_clean['duration_min'].describe()"
   ]
  },
  {
   "cell_type": "code",
   "execution_count": null,
   "id": "3c8b7a35",
   "metadata": {},
   "outputs": [],
   "source": []
  },
  {
   "cell_type": "code",
   "execution_count": 34,
   "id": "dcee3786",
   "metadata": {},
   "outputs": [
    {
     "data": {
      "image/png": "[encoded data removed]",
      "text/plain": [
       "<Figure size 640x480 with 1 Axes>"
      ]
     },
     "metadata": {},
     "output_type": "display_data"
    }
   ],
   "source": [
    "bins = 10 ** np.arange(-1,3+0.1,0.1)\n",
    "ticks = [0.1,0.3,1,3,10,50,100,300,1000]\n",
    "## convert to ticks to strings\n",
    "labels = ['{}'.format(v) for v in ticks]\n",
    "\n",
    "plt.hist(data=bike_clean,x='duration_min',bins=bins)\n",
    "plt.title('Distribution of Trip Duration')\n",
    "\n",
    "plt.xlabel('Logged Durations (min)')\n",
    "plt.ylabel('Frequency')\n",
    "plt.xscale('log')\n",
    "plt.xticks(ticks,labels)\n",
    "plt.show()"
   ]
  },
  {
   "cell_type": "markdown",
   "id": "744641ed",
   "metadata": {},
   "source": [
    "from the histplot we could see that after the trip duration was plotted on a logged scale, the  duration distribution looks unimodal with most of the trip concentrated around 10 minutes.  "
   ]
  },
  {
   "cell_type": "markdown",
   "id": "1633a4c6",
   "metadata": {},
   "source": [
    "#### Which day in the week was most trips made."
   ]
  },
  {
   "cell_type": "code",
   "execution_count": 35,
   "id": "18db9067",
   "metadata": {},
   "outputs": [],
   "source": [
    "day_order = ['Monday','Tuesday','Wednesday','Thursday','Friday','Saturday','Sunday']\n"
   ]
  },
  {
   "cell_type": "code",
   "execution_count": 36,
   "id": "1d224530",
   "metadata": {},
   "outputs": [
    {
     "data": {
      "image/png": "[encoded data removed]",
      "text/plain": [
       "<Figure size 640x480 with 1 Axes>"
      ]
     },
     "metadata": {},
     "output_type": "display_data"
    }
   ],
   "source": [
    "sns.countplot(data=bike_clean,x='start_day_of_week',order=day_order)\n",
    "plt.xlabel('day of the week')\n",
    "plt.title('Days of the Week Trips Distribution')\n",
    "plt.show()"
   ]
  },
  {
   "cell_type": "markdown",
   "id": "fcca681b",
   "metadata": {},
   "source": [
    "From the above countplot, most of the trips were made on Thursday while there was low patronage during the weekend."
   ]
  },
  {
   "cell_type": "code",
   "execution_count": 37,
   "id": "1a65cb9a",
   "metadata": {},
   "outputs": [
    {
     "data": {
      "image/png": "[encoded data removed]",
      "text/plain": [
       "<Figure size 640x480 with 1 Axes>"
      ]
     },
     "metadata": {},
     "output_type": "display_data"
    }
   ],
   "source": [
    "plt.figure(dpi=100)\n",
    "base_color =sns.color_palette()[0]\n",
    "sns.countplot(data=bike_clean,y='day',color=base_color)\n",
    "plt.title('Number of Trips made by days in the Month oFebruary')\n",
    "plt.show()"
   ]
  },
  {
   "cell_type": "code",
   "execution_count": 38,
   "id": "5f1ead3b",
   "metadata": {},
   "outputs": [
    {
     "data": {
      "text/plain": [
       "morning    0.385340\n",
       "noon       0.383065\n",
       "night      0.231595\n",
       "Name: time_of_day, dtype: float64"
      ]
     },
     "execution_count": 38,
     "metadata": {},
     "output_type": "execute_result"
    }
   ],
   "source": [
    "time_of_day_counts=bike_clean['time_of_day'].value_counts(normalize=True)\n",
    "time_of_day_counts"
   ]
  },
  {
   "cell_type": "code",
   "execution_count": 39,
   "id": "5fc013e6",
   "metadata": {},
   "outputs": [
    {
     "data": {
      "image/png": "[encoded data removed]",
      "text/plain": [
       "<Figure size 640x480 with 1 Axes>"
      ]
     },
     "metadata": {},
     "output_type": "display_data"
    }
   ],
   "source": [
    "plt.pie(data=time_of_day_counts,\n",
    "        labels=time_of_day_counts.index,\n",
    "        x=time_of_day_counts.values,\n",
    "       autopct='%1.1f',\n",
    "       colors=['grey','yellow','brown'])\n",
    "plt.title('Percentage of trips made by time of the Day ')\n",
    "plt.show()"
   ]
  },
  {
   "cell_type": "markdown",
   "id": "1e8346ba",
   "metadata": {},
   "source": [
    "From the piechart we could that majority of the trips were made during the day(morning and noon)"
   ]
  },
  {
   "cell_type": "code",
   "execution_count": 40,
   "id": "bae2df26",
   "metadata": {},
   "outputs": [],
   "source": [
    "# create a function that plots a countplot\n",
    "def plot_countplot(df,x,xlabel,title):\n",
    "    sns.countplot(data=df, x=x)\n",
    "    plt.xlabel(xlabel)\n",
    "    plt.title(title)\n",
    "    plt.show()"
   ]
  },
  {
   "cell_type": "code",
   "execution_count": 41,
   "id": "dc8f0209",
   "metadata": {},
   "outputs": [
    {
     "data": {
      "image/png": "[encoded data removed]",
      "text/plain": [
       "<Figure size 640x480 with 1 Axes>"
      ]
     },
     "metadata": {},
     "output_type": "display_data"
    }
   ],
   "source": [
    "plot_countplot(bike_clean,'is_round_trip','is it round trip','Number of round trips')"
   ]
  },
  {
   "cell_type": "markdown",
   "id": "26ecc460",
   "metadata": {},
   "source": [
    "From the countplot we could see that an overwhelming proportions of the trips made were not round tripFr"
   ]
  },
  {
   "cell_type": "code",
   "execution_count": 42,
   "id": "3dfc1258",
   "metadata": {},
   "outputs": [
    {
     "data": {
      "image/png": "[encoded data removed]",
      "text/plain": [
       "<Figure size 640x480 with 1 Axes>"
      ]
     },
     "metadata": {},
     "output_type": "display_data"
    }
   ],
   "source": [
    "plot_countplot(bike_clean,'member_gender','member of gender','Number of Trips made According to their Gender')"
   ]
  },
  {
   "cell_type": "markdown",
   "id": "ab3f463b",
   "metadata": {},
   "source": [
    "from the above graph the male gender made the highest number of trips than the other genders."
   ]
  },
  {
   "cell_type": "code",
   "execution_count": 43,
   "id": "b6e23818",
   "metadata": {},
   "outputs": [
    {
     "data": {
      "image/png": "[encoded data removed]",
      "text/plain": [
       "<Figure size 640x480 with 1 Axes>"
      ]
     },
     "metadata": {},
     "output_type": "display_data"
    }
   ],
   "source": [
    "plot_countplot(bike_clean,'user_type','User Type', 'Number of trips made based on user type')"
   ]
  },
  {
   "cell_type": "markdown",
   "id": "d8ffab7f",
   "metadata": {},
   "source": [
    "From the above countplot most of the trips made were from subscribers."
   ]
  },
  {
   "cell_type": "code",
   "execution_count": 44,
   "id": "d7eea9ab",
   "metadata": {},
   "outputs": [
    {
     "data": {
      "text/plain": [
       "Young Adults         114024\n",
       "Middle-age Adults     56774\n",
       "Old Adults             4154\n",
       "Name: age_group, dtype: int64"
      ]
     },
     "execution_count": 44,
     "metadata": {},
     "output_type": "execute_result"
    }
   ],
   "source": [
    "bike_clean['age_group'].value_counts()"
   ]
  },
  {
   "cell_type": "code",
   "execution_count": 45,
   "id": "f00f5b31",
   "metadata": {},
   "outputs": [
    {
     "data": {
      "image/png": "[encoded data removed]",
      "text/plain": [
       "<Figure size 800x600 with 1 Axes>"
      ]
     },
     "metadata": {},
     "output_type": "display_data"
    }
   ],
   "source": [
    "plt.figure(figsize=(8,6))\n",
    "base_color = sns.color_palette()[5]\n",
    "sns.countplot(data=bike_clean,x='age_group',color=base_color)\n",
    "n_points = bike_clean.shape[0]\n",
    "age_group_counts=bike_clean['age_group'].value_counts()\n",
    "locs,labels= plt.xticks()\n",
    "for loc,label in zip(locs,labels):\n",
    "    count= age_group_counts[label.get_text()]\n",
    "    pct_string ='{:0.1f}%'.format(100 * count/n_points)\n",
    "    plt.text(loc,count-8,pct_string,ha='center')\n",
    "    plt.title('Percentage of trips made based by Age groups of members')\n",
    "    \n",
    "plt.show()"
   ]
  },
  {
   "cell_type": "markdown",
   "id": "1b470f0a",
   "metadata": {},
   "source": [
    "About 65% of the trips were made by young adult which are members within the age of 18 and 35 years."
   ]
  },
  {
   "cell_type": "markdown",
   "id": "f7bc9a1c",
   "metadata": {},
   "source": [
    "### BiViRate Exploration"
   ]
  },
  {
   "cell_type": "code",
   "execution_count": 46,
   "id": "7d783446",
   "metadata": {},
   "outputs": [
    {
     "data": {
      "image/png": "[encoded data removed]",
      "text/plain": [
       "<Figure size 640x480 with 1 Axes>"
      ]
     },
     "metadata": {},
     "output_type": "display_data"
    }
   ],
   "source": [
    "sns.barplot(data=bike_clean, x='member_gender',y='duration_min')\n",
    "\n",
    "plt.show()"
   ]
  },
  {
   "cell_type": "markdown",
   "id": "71bf80f5",
   "metadata": {},
   "source": [
    "The barplot shows the other other gender which does not include male and female has the highest average duration. This could bre partly down to the fact that section of gender made the least number of trips."
   ]
  },
  {
   "cell_type": "code",
   "execution_count": 47,
   "id": "ac823ced",
   "metadata": {},
   "outputs": [],
   "source": [
    "day_count=bike_clean.groupby(['day','time_of_day']).size().reset_index().rename(columns={0:'count'})"
   ]
  },
  {
   "cell_type": "code",
   "execution_count": 48,
   "id": "2babfcbf",
   "metadata": {},
   "outputs": [
    {
     "data": {
      "image/png": "[encoded data removed]",
      "text/plain": [
       "<Figure size 768x576 with 1 Axes>"
      ]
     },
     "metadata": {},
     "output_type": "display_data"
    }
   ],
   "source": [
    "plt.figure(dpi=120)\n",
    "sns.barplot(data=day_count,x='day',y='count',hue='time_of_day')\n",
    "plt.show()"
   ]
  },
  {
   "cell_type": "markdown",
   "id": "5d1409c6",
   "metadata": {},
   "source": [
    "From the above barplot , we could  see that in the month of february most of trips were made in the month of February except for few exceptions."
   ]
  },
  {
   "cell_type": "code",
   "execution_count": 49,
   "id": "a1407cf5",
   "metadata": {},
   "outputs": [
    {
     "data": {
      "image/png": "[encoded data removed]",
      "text/plain": [
       "<Figure size 640x480 with 1 Axes>"
      ]
     },
     "metadata": {},
     "output_type": "display_data"
    }
   ],
   "source": [
    "sns.countplot(data=bike_clean, x='start_day_of_week',hue='member_gender')\n",
    "plt.xlabel('Day of the week')\n",
    "plt.show()"
   ]
  },
  {
   "cell_type": "markdown",
   "id": "9e04ea8a",
   "metadata": {},
   "source": [
    "From the above countplot, the male gender made the most number of trips through out the week."
   ]
  },
  {
   "cell_type": "code",
   "execution_count": 50,
   "id": "3cfabe48",
   "metadata": {},
   "outputs": [
    {
     "data": {
      "text/plain": [
       "Index(['duration_sec', 'start_time', 'end_time', 'start_station_id',\n",
       "       'start_station_name', 'start_station_longitude', 'end_station_id',\n",
       "       'end_station_name', 'end_station_longitude', 'bike_id', 'user_type',\n",
       "       'member_birth_year', 'member_gender', 'bike_share_for_all_trip',\n",
       "       'start_year', 'start_month', 'start_day_of_week', 'start_hour', 'day',\n",
       "       'member_age', 'is_round_trip', 'age_group', 'time_of_day',\n",
       "       'duration_min'],\n",
       "      dtype='object')"
      ]
     },
     "execution_count": 50,
     "metadata": {},
     "output_type": "execute_result"
    }
   ],
   "source": [
    "bike_clean.columns"
   ]
  },
  {
   "cell_type": "code",
   "execution_count": 51,
   "id": "143354e1",
   "metadata": {},
   "outputs": [
    {
     "data": {
      "text/html": [
       "<div>\n",
       "<style scoped>\n",
       "    .dataframe tbody tr th:only-of-type {\n",
       "        vertical-align: middle;\n",
       "    }\n",
       "\n",
       "    .dataframe tbody tr th {\n",
       "        vertical-align: top;\n",
       "    }\n",
       "\n",
       "    .dataframe thead th {\n",
       "        text-align: right;\n",
       "    }\n",
       "</style>\n",
       "<table border=\"1\" class=\"dataframe\">\n",
       "  <thead>\n",
       "    <tr style=\"text-align: right;\">\n",
       "      <th></th>\n",
       "      <th>start_day_of_week</th>\n",
       "      <th>start_hour</th>\n",
       "      <th>count</th>\n",
       "    </tr>\n",
       "  </thead>\n",
       "  <tbody>\n",
       "    <tr>\n",
       "      <th>0</th>\n",
       "      <td>Friday</td>\n",
       "      <td>0</td>\n",
       "      <td>144</td>\n",
       "    </tr>\n",
       "    <tr>\n",
       "      <th>1</th>\n",
       "      <td>Friday</td>\n",
       "      <td>1</td>\n",
       "      <td>79</td>\n",
       "    </tr>\n",
       "    <tr>\n",
       "      <th>2</th>\n",
       "      <td>Friday</td>\n",
       "      <td>2</td>\n",
       "      <td>63</td>\n",
       "    </tr>\n",
       "    <tr>\n",
       "      <th>3</th>\n",
       "      <td>Friday</td>\n",
       "      <td>3</td>\n",
       "      <td>29</td>\n",
       "    </tr>\n",
       "    <tr>\n",
       "      <th>4</th>\n",
       "      <td>Friday</td>\n",
       "      <td>4</td>\n",
       "      <td>42</td>\n",
       "    </tr>\n",
       "    <tr>\n",
       "      <th>...</th>\n",
       "      <td>...</td>\n",
       "      <td>...</td>\n",
       "      <td>...</td>\n",
       "    </tr>\n",
       "    <tr>\n",
       "      <th>163</th>\n",
       "      <td>Wednesday</td>\n",
       "      <td>19</td>\n",
       "      <td>1783</td>\n",
       "    </tr>\n",
       "    <tr>\n",
       "      <th>164</th>\n",
       "      <td>Wednesday</td>\n",
       "      <td>20</td>\n",
       "      <td>1147</td>\n",
       "    </tr>\n",
       "    <tr>\n",
       "      <th>165</th>\n",
       "      <td>Wednesday</td>\n",
       "      <td>21</td>\n",
       "      <td>868</td>\n",
       "    </tr>\n",
       "    <tr>\n",
       "      <th>166</th>\n",
       "      <td>Wednesday</td>\n",
       "      <td>22</td>\n",
       "      <td>507</td>\n",
       "    </tr>\n",
       "    <tr>\n",
       "      <th>167</th>\n",
       "      <td>Wednesday</td>\n",
       "      <td>23</td>\n",
       "      <td>240</td>\n",
       "    </tr>\n",
       "  </tbody>\n",
       "</table>\n",
       "<p>168 rows × 3 columns</p>\n",
       "</div>"
      ],
      "text/plain": [
       "    start_day_of_week  start_hour  count\n",
       "0              Friday           0    144\n",
       "1              Friday           1     79\n",
       "2              Friday           2     63\n",
       "3              Friday           3     29\n",
       "4              Friday           4     42\n",
       "..                ...         ...    ...\n",
       "163         Wednesday          19   1783\n",
       "164         Wednesday          20   1147\n",
       "165         Wednesday          21    868\n",
       "166         Wednesday          22    507\n",
       "167         Wednesday          23    240\n",
       "\n",
       "[168 rows x 3 columns]"
      ]
     },
     "execution_count": 51,
     "metadata": {},
     "output_type": "execute_result"
    }
   ],
   "source": [
    "day_hour_count = bike_clean.groupby(['start_day_of_week','start_hour']).size().reset_index().rename(columns={0:'count'})\n",
    "day_hour_count"
   ]
  },
  {
   "cell_type": "code",
   "execution_count": 52,
   "id": "12be96e6",
   "metadata": {},
   "outputs": [],
   "source": [
    "heat=day_hour_count.pivot(index='start_hour',columns='start_day_of_week',values='count')"
   ]
  },
  {
   "cell_type": "code",
   "execution_count": 53,
   "id": "741576bd",
   "metadata": {},
   "outputs": [
    {
     "data": {
      "image/png": "[encoded data removed]",
      "text/plain": [
       "<Figure size 640x480 with 2 Axes>"
      ]
     },
     "metadata": {},
     "output_type": "display_data"
    }
   ],
   "source": [
    "sns.heatmap(data=heat,cmap='viridis_r')\n",
    "plt.title('Number of trips made by Hour and Days of the Week')\n",
    "plt.ylabel('Hours')\n",
    "plt.xlabel('days of the week')\n",
    "plt.show()"
   ]
  },
  {
   "cell_type": "markdown",
   "id": "dae25ba0",
   "metadata": {},
   "source": [
    "from the above heatmap, we could see that most of trips were made between 7am and 9am and rapidly declines from 10am to 16 in the evening. This could be partly down to the fact that most of their have busy schedules during that time of the day. For much of the evening ie between from 17 to 18, activitiees pick-ups as most of their customers returns from work."
   ]
  },
  {
   "cell_type": "code",
   "execution_count": 54,
   "id": "a83ec0b7",
   "metadata": {},
   "outputs": [
    {
     "data": {
      "text/plain": [
       "<AxesSubplot:xlabel='duration_min', ylabel='member_gender'>"
      ]
     },
     "execution_count": 54,
     "metadata": {},
     "output_type": "execute_result"
    },
    {
     "data": {
      "image/png": "[encoded data removed]",
      "text/plain": [
       "<Figure size 640x480 with 1 Axes>"
      ]
     },
     "metadata": {},
     "output_type": "display_data"
    }
   ],
   "source": [
    "sns.boxplot(data=bike_clean,x='duration_min',y='member_gender' )"
   ]
  },
  {
   "cell_type": "markdown",
   "id": "c767e619",
   "metadata": {},
   "source": [
    "The above box plot was marred by outliers and as such those ouliers needs to be removed."
   ]
  },
  {
   "cell_type": "code",
   "execution_count": 55,
   "id": "66d15d7c",
   "metadata": {},
   "outputs": [],
   "source": [
    "# create a function to remove outliers.\n",
    "def remove_outliers(df,col):\n",
    "    q1 = np.quantile(df[col],0.25)\n",
    "    \n",
    "    q3=np.quantile(df[col],0.75)\n",
    "    IQR= iqr(df[col])\n",
    "    \n",
    "    lower = (q1) - 1.5 * IQR\n",
    "    upper = (q3) + 1.5 * IQR\n",
    "    \n",
    "    result = df[~((df[col]  < lower)|(df[col] >upper))]\n",
    "    return result"
   ]
  },
  {
   "cell_type": "code",
   "execution_count": 56,
   "id": "434a1574",
   "metadata": {},
   "outputs": [],
   "source": [
    "df=bike_clean[['member_gender','duration_min']]"
   ]
  },
  {
   "cell_type": "code",
   "execution_count": 57,
   "id": "a415b3a3",
   "metadata": {},
   "outputs": [],
   "source": [
    "result_df = remove_outliers(df,'duration_min')"
   ]
  },
  {
   "cell_type": "code",
   "execution_count": 58,
   "id": "f5355a2d",
   "metadata": {},
   "outputs": [
    {
     "data": {
      "text/html": [
       "<div>\n",
       "<style scoped>\n",
       "    .dataframe tbody tr th:only-of-type {\n",
       "        vertical-align: middle;\n",
       "    }\n",
       "\n",
       "    .dataframe tbody tr th {\n",
       "        vertical-align: top;\n",
       "    }\n",
       "\n",
       "    .dataframe thead th {\n",
       "        text-align: right;\n",
       "    }\n",
       "</style>\n",
       "<table border=\"1\" class=\"dataframe\">\n",
       "  <thead>\n",
       "    <tr style=\"text-align: right;\">\n",
       "      <th></th>\n",
       "      <th>member_gender</th>\n",
       "      <th>duration_min</th>\n",
       "    </tr>\n",
       "  </thead>\n",
       "  <tbody>\n",
       "    <tr>\n",
       "      <th>6</th>\n",
       "      <td>Female</td>\n",
       "      <td>19.116667</td>\n",
       "    </tr>\n",
       "    <tr>\n",
       "      <th>9</th>\n",
       "      <td>Male</td>\n",
       "      <td>17.483333</td>\n",
       "    </tr>\n",
       "    <tr>\n",
       "      <th>10</th>\n",
       "      <td>Female</td>\n",
       "      <td>7.633333</td>\n",
       "    </tr>\n",
       "    <tr>\n",
       "      <th>11</th>\n",
       "      <td>Male</td>\n",
       "      <td>8.433333</td>\n",
       "    </tr>\n",
       "    <tr>\n",
       "      <th>12</th>\n",
       "      <td>Male</td>\n",
       "      <td>19.600000</td>\n",
       "    </tr>\n",
       "    <tr>\n",
       "      <th>...</th>\n",
       "      <td>...</td>\n",
       "      <td>...</td>\n",
       "    </tr>\n",
       "    <tr>\n",
       "      <th>183407</th>\n",
       "      <td>Male</td>\n",
       "      <td>8.000000</td>\n",
       "    </tr>\n",
       "    <tr>\n",
       "      <th>183408</th>\n",
       "      <td>Male</td>\n",
       "      <td>5.216667</td>\n",
       "    </tr>\n",
       "    <tr>\n",
       "      <th>183409</th>\n",
       "      <td>Male</td>\n",
       "      <td>2.350000</td>\n",
       "    </tr>\n",
       "    <tr>\n",
       "      <th>183410</th>\n",
       "      <td>Male</td>\n",
       "      <td>2.316667</td>\n",
       "    </tr>\n",
       "    <tr>\n",
       "      <th>183411</th>\n",
       "      <td>Male</td>\n",
       "      <td>4.516667</td>\n",
       "    </tr>\n",
       "  </tbody>\n",
       "</table>\n",
       "<p>165624 rows × 2 columns</p>\n",
       "</div>"
      ],
      "text/plain": [
       "       member_gender  duration_min\n",
       "6             Female     19.116667\n",
       "9               Male     17.483333\n",
       "10            Female      7.633333\n",
       "11              Male      8.433333\n",
       "12              Male     19.600000\n",
       "...              ...           ...\n",
       "183407          Male      8.000000\n",
       "183408          Male      5.216667\n",
       "183409          Male      2.350000\n",
       "183410          Male      2.316667\n",
       "183411          Male      4.516667\n",
       "\n",
       "[165624 rows x 2 columns]"
      ]
     },
     "execution_count": 58,
     "metadata": {},
     "output_type": "execute_result"
    }
   ],
   "source": [
    "result_df"
   ]
  },
  {
   "cell_type": "code",
   "execution_count": 59,
   "id": "e9cad5ec",
   "metadata": {},
   "outputs": [
    {
     "data": {
      "text/plain": [
       "<AxesSubplot:xlabel='duration_min', ylabel='member_gender'>"
      ]
     },
     "execution_count": 59,
     "metadata": {},
     "output_type": "execute_result"
    },
    {
     "data": {
      "image/png": "[encoded data removed]",
      "text/plain": [
       "<Figure size 640x480 with 1 Axes>"
      ]
     },
     "metadata": {},
     "output_type": "display_data"
    }
   ],
   "source": [
    "sns.violinplot(data=result_df,x='duration_min',y='member_gender' ,inner='quartile')"
   ]
  },
  {
   "cell_type": "markdown",
   "id": "25046ed3",
   "metadata": {},
   "source": [
    "After the removing outliers we could see that both female and other gender made trips with median minutes of about 8 minutes."
   ]
  },
  {
   "cell_type": "markdown",
   "id": "effd17d0",
   "metadata": {},
   "source": [
    "### MultiVirate Exploration"
   ]
  },
  {
   "cell_type": "code",
   "execution_count": 60,
   "id": "e3048c70",
   "metadata": {},
   "outputs": [
    {
     "data": {
      "text/plain": [
       "<seaborn.axisgrid.FacetGrid at 0x1ee262cb9a0>"
      ]
     },
     "execution_count": 60,
     "metadata": {},
     "output_type": "execute_result"
    },
    {
     "data": {
      "image/png": "[encoded data removed]",
      "text/plain": [
       "<Figure size 900x300 with 3 Axes>"
      ]
     },
     "metadata": {},
     "output_type": "display_data"
    }
   ],
   "source": [
    "g=sns.FacetGrid(data=bike_clean,col='member_gender',sharey=False,sharex=False)\n",
    "g.map(plt.hist,'member_age')"
   ]
  },
  {
   "cell_type": "code",
   "execution_count": 61,
   "id": "2fd8f9a0",
   "metadata": {},
   "outputs": [
    {
     "data": {
      "image/png": "[encoded data removed]",
      "text/plain": [
       "<Figure size 250x500 with 2 Axes>"
      ]
     },
     "metadata": {},
     "output_type": "display_data"
    }
   ],
   "source": [
    "g = sns.PairGrid(data=bike_clean, x_vars='member_age', y_vars=['member_gender','user_type'],diag_sharey=False)\n",
    "g.map(sns.barplot)\n",
    "plt.show()"
   ]
  },
  {
   "cell_type": "markdown",
   "id": "ea494ee3",
   "metadata": {},
   "source": [
    "The above plot depicts  that bothe the customer and subscribers of Ford GoBike similar average age while on the otherhand other gender has a higher average age than both the female and male gender."
   ]
  },
  {
   "cell_type": "code",
   "execution_count": 62,
   "id": "3e9f5f89",
   "metadata": {},
   "outputs": [
    {
     "data": {
      "text/html": [
       "<div>\n",
       "<style scoped>\n",
       "    .dataframe tbody tr th:only-of-type {\n",
       "        vertical-align: middle;\n",
       "    }\n",
       "\n",
       "    .dataframe tbody tr th {\n",
       "        vertical-align: top;\n",
       "    }\n",
       "\n",
       "    .dataframe thead th {\n",
       "        text-align: right;\n",
       "    }\n",
       "</style>\n",
       "<table border=\"1\" class=\"dataframe\">\n",
       "  <thead>\n",
       "    <tr style=\"text-align: right;\">\n",
       "      <th></th>\n",
       "      <th>start_day_of_week</th>\n",
       "      <th>start_hour</th>\n",
       "      <th>avg_duration</th>\n",
       "    </tr>\n",
       "  </thead>\n",
       "  <tbody>\n",
       "    <tr>\n",
       "      <th>0</th>\n",
       "      <td>Friday</td>\n",
       "      <td>0</td>\n",
       "      <td>11.159491</td>\n",
       "    </tr>\n",
       "    <tr>\n",
       "      <th>1</th>\n",
       "      <td>Friday</td>\n",
       "      <td>1</td>\n",
       "      <td>11.737553</td>\n",
       "    </tr>\n",
       "    <tr>\n",
       "      <th>2</th>\n",
       "      <td>Friday</td>\n",
       "      <td>2</td>\n",
       "      <td>11.712698</td>\n",
       "    </tr>\n",
       "    <tr>\n",
       "      <th>3</th>\n",
       "      <td>Friday</td>\n",
       "      <td>3</td>\n",
       "      <td>9.690230</td>\n",
       "    </tr>\n",
       "    <tr>\n",
       "      <th>4</th>\n",
       "      <td>Friday</td>\n",
       "      <td>4</td>\n",
       "      <td>13.531746</td>\n",
       "    </tr>\n",
       "    <tr>\n",
       "      <th>...</th>\n",
       "      <td>...</td>\n",
       "      <td>...</td>\n",
       "      <td>...</td>\n",
       "    </tr>\n",
       "    <tr>\n",
       "      <th>163</th>\n",
       "      <td>Wednesday</td>\n",
       "      <td>19</td>\n",
       "      <td>10.760946</td>\n",
       "    </tr>\n",
       "    <tr>\n",
       "      <th>164</th>\n",
       "      <td>Wednesday</td>\n",
       "      <td>20</td>\n",
       "      <td>12.356670</td>\n",
       "    </tr>\n",
       "    <tr>\n",
       "      <th>165</th>\n",
       "      <td>Wednesday</td>\n",
       "      <td>21</td>\n",
       "      <td>9.457220</td>\n",
       "    </tr>\n",
       "    <tr>\n",
       "      <th>166</th>\n",
       "      <td>Wednesday</td>\n",
       "      <td>22</td>\n",
       "      <td>9.695595</td>\n",
       "    </tr>\n",
       "    <tr>\n",
       "      <th>167</th>\n",
       "      <td>Wednesday</td>\n",
       "      <td>23</td>\n",
       "      <td>13.220486</td>\n",
       "    </tr>\n",
       "  </tbody>\n",
       "</table>\n",
       "<p>168 rows × 3 columns</p>\n",
       "</div>"
      ],
      "text/plain": [
       "    start_day_of_week  start_hour  avg_duration\n",
       "0              Friday           0     11.159491\n",
       "1              Friday           1     11.737553\n",
       "2              Friday           2     11.712698\n",
       "3              Friday           3      9.690230\n",
       "4              Friday           4     13.531746\n",
       "..                ...         ...           ...\n",
       "163         Wednesday          19     10.760946\n",
       "164         Wednesday          20     12.356670\n",
       "165         Wednesday          21      9.457220\n",
       "166         Wednesday          22      9.695595\n",
       "167         Wednesday          23     13.220486\n",
       "\n",
       "[168 rows x 3 columns]"
      ]
     },
     "execution_count": 62,
     "metadata": {},
     "output_type": "execute_result"
    }
   ],
   "source": [
    "day_hour_duration = bike_clean.groupby(['start_day_of_week','start_hour'])['duration_min'].mean().reset_index().rename(columns={'duration_min':'avg_duration'})\n",
    "day_hour_duration"
   ]
  },
  {
   "cell_type": "code",
   "execution_count": 63,
   "id": "f800225d",
   "metadata": {},
   "outputs": [],
   "source": [
    "day_hour_duration_pivot=day_hour_duration.pivot(index='start_hour',columns='start_day_of_week',values='avg_duration')"
   ]
  },
  {
   "cell_type": "code",
   "execution_count": 64,
   "id": "7a79ec4f",
   "metadata": {},
   "outputs": [
    {
     "data": {
      "image/png": "[encoded data removed]",
      "text/plain": [
       "<Figure size 640x480 with 2 Axes>"
      ]
     },
     "metadata": {},
     "output_type": "display_data"
    }
   ],
   "source": [
    "plt.figure(dpi=100)\n",
    "sns.heatmap(data=day_hour_duration_pivot,annot=True,cmap='viridis_r')\n",
    "plt.show()"
   ]
  },
  {
   "cell_type": "markdown",
   "id": "826334a3",
   "metadata": {},
   "source": [
    "From the above heatmap, we could see that they made their highest average distance on by early hours of 3 on Sunday."
   ]
  },
  {
   "cell_type": "markdown",
   "id": "1aef5ca1",
   "metadata": {},
   "source": [
    "### Conclusion\n",
    "from the above analysis we arrive at the following conclusion:\n",
    "* The male gender made the most trips in the month of february.\n",
    "* Most of the trips made falls around 10 minutes.\n",
    "* Majority of the trips made were not round trips.\n",
    "* The age group of those who patronised ford Gobike were within the age range of 18 to 35 years hence the name young adults.\n",
    "* Most of the trips made was were during the day time.\n",
    "* Most of the trips were made on Thursday while there was low patronage during the weekend.\n"
   ]
  },
  {
   "cell_type": "code",
   "execution_count": null,
   "id": "9bb1985f",
   "metadata": {},
   "outputs": [],
   "source": []
  }
 ],
 "metadata": {
  "kernelspec": {
   "display_name": "Python 3 (ipykernel)",
   "language": "python",
   "name": "python3"
  },
  "language_info": {
   "codemirror_mode": {
    "name": "ipython",
    "version": 3
   },
   "file_extension": ".py",
   "mimetype": "text/x-python",
   "name": "python",
   "nbconvert_exporter": "python",
   "pygments_lexer": "ipython3",
   "version": "3.9.13"
  }
 },
 "nbformat": 4,
 "nbformat_minor": 5
}
